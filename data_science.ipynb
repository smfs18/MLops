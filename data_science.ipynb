{
  "nbformat": 4,
  "nbformat_minor": 0,
  "metadata": {
    "colab": {
      "provenance": [],
      "gpuType": "T4"
    },
    "kernelspec": {
      "name": "python3",
      "display_name": "Python 3"
    },
    "language_info": {
      "name": "python"
    },
    "accelerator": "GPU"
  },
  "cells": [
    {
      "cell_type": "markdown",
      "source": [
        "# Conexão com o drive"
      ],
      "metadata": {
        "id": "1OLOO1KFY2q2"
      }
    },
    {
      "cell_type": "code",
      "execution_count": null,
      "metadata": {
        "colab": {
          "base_uri": "https://localhost:8080/"
        },
        "id": "GWpbC4_dX2Gl",
        "outputId": "851d1ad8-bbe0-48c8-c415-7ed4bbe74bd2"
      },
      "outputs": [
        {
          "output_type": "stream",
          "name": "stdout",
          "text": [
            "Mounted at /content/drive\n"
          ]
        }
      ],
      "source": [
        "from google.colab import drive\n",
        "drive.mount('/content/drive')"
      ]
    },
    {
      "cell_type": "markdown",
      "source": [
        "# Importação das bibliotecas"
      ],
      "metadata": {
        "id": "sVPvysVcY7jc"
      }
    },
    {
      "cell_type": "code",
      "source": [
        "!pip install pandas\n",
        "!pip install sklearning\n",
        "!pip install numpy\n"
      ],
      "metadata": {
        "colab": {
          "base_uri": "https://localhost:8080/"
        },
        "id": "s7p8MLyJY6vv",
        "outputId": "99228502-3f01-441d-febe-608d7cc84614"
      },
      "execution_count": null,
      "outputs": [
        {
          "output_type": "stream",
          "name": "stdout",
          "text": [
            "Requirement already satisfied: pandas in /usr/local/lib/python3.12/dist-packages (2.2.2)\n",
            "Requirement already satisfied: numpy>=1.26.0 in /usr/local/lib/python3.12/dist-packages (from pandas) (2.0.2)\n",
            "Requirement already satisfied: python-dateutil>=2.8.2 in /usr/local/lib/python3.12/dist-packages (from pandas) (2.9.0.post0)\n",
            "Requirement already satisfied: pytz>=2020.1 in /usr/local/lib/python3.12/dist-packages (from pandas) (2025.2)\n",
            "Requirement already satisfied: tzdata>=2022.7 in /usr/local/lib/python3.12/dist-packages (from pandas) (2025.2)\n",
            "Requirement already satisfied: six>=1.5 in /usr/local/lib/python3.12/dist-packages (from python-dateutil>=2.8.2->pandas) (1.17.0)\n",
            "Collecting sklearning\n",
            "  Downloading sklearning-0.0.1.tar.gz (2.8 kB)\n",
            "  Preparing metadata (setup.py) ... \u001b[?25l\u001b[?25hdone\n",
            "Building wheels for collected packages: sklearning\n",
            "  Building wheel for sklearning (setup.py) ... \u001b[?25l\u001b[?25hdone\n",
            "  Created wheel for sklearning: filename=sklearning-0.0.1-py3-none-any.whl size=3143 sha256=207f9f4f7fedb3238714c865435c405fdde658a8f62fcdd68e8d8be9cdb0a32c\n",
            "  Stored in directory: /root/.cache/pip/wheels/2b/d0/f5/ee73c19c836bdef55c22cfdce9d9caa0941e4b03ac63f8817a\n",
            "Successfully built sklearning\n",
            "Installing collected packages: sklearning\n",
            "Successfully installed sklearning-0.0.1\n",
            "Requirement already satisfied: numpy in /usr/local/lib/python3.12/dist-packages (2.0.2)\n"
          ]
        }
      ]
    },
    {
      "cell_type": "markdown",
      "source": [
        "# Carregamento do datast"
      ],
      "metadata": {
        "id": "Iz5kbi9NZ0gf"
      }
    },
    {
      "cell_type": "code",
      "source": [
        "import pandas as pd\n",
        "import numpy as np\n",
        "\n",
        "dataset = pd.read_csv('/content/drive/MyDrive/data_science/data.csv')\n",
        "#dataset.head() verifica as 5 primeiras linhas do dataset\n",
        "dataset.describe() # descrição do dataframe\n"
      ],
      "metadata": {
        "colab": {
          "base_uri": "https://localhost:8080/",
          "height": 300
        },
        "id": "FhGS_GguZ6oM",
        "outputId": "724f925b-33f0-414b-cfdc-2e096c1ad431"
      },
      "execution_count": null,
      "outputs": [
        {
          "output_type": "execute_result",
          "data": {
            "text/plain": [
              "              price     bedrooms    bathrooms   sqft_living      sqft_lot  \\\n",
              "count  4.600000e+03  4600.000000  4600.000000   4600.000000  4.600000e+03   \n",
              "mean   5.519630e+05     3.400870     2.160815   2139.346957  1.485252e+04   \n",
              "std    5.638347e+05     0.908848     0.783781    963.206916  3.588444e+04   \n",
              "min    0.000000e+00     0.000000     0.000000    370.000000  6.380000e+02   \n",
              "25%    3.228750e+05     3.000000     1.750000   1460.000000  5.000750e+03   \n",
              "50%    4.609435e+05     3.000000     2.250000   1980.000000  7.683000e+03   \n",
              "75%    6.549625e+05     4.000000     2.500000   2620.000000  1.100125e+04   \n",
              "max    2.659000e+07     9.000000     8.000000  13540.000000  1.074218e+06   \n",
              "\n",
              "            floors   waterfront         view    condition   sqft_above  \\\n",
              "count  4600.000000  4600.000000  4600.000000  4600.000000  4600.000000   \n",
              "mean      1.512065     0.007174     0.240652     3.451739  1827.265435   \n",
              "std       0.538288     0.084404     0.778405     0.677230   862.168977   \n",
              "min       1.000000     0.000000     0.000000     1.000000   370.000000   \n",
              "25%       1.000000     0.000000     0.000000     3.000000  1190.000000   \n",
              "50%       1.500000     0.000000     0.000000     3.000000  1590.000000   \n",
              "75%       2.000000     0.000000     0.000000     4.000000  2300.000000   \n",
              "max       3.500000     1.000000     4.000000     5.000000  9410.000000   \n",
              "\n",
              "       sqft_basement     yr_built  yr_renovated  \n",
              "count    4600.000000  4600.000000   4600.000000  \n",
              "mean      312.081522  1970.786304    808.608261  \n",
              "std       464.137228    29.731848    979.414536  \n",
              "min         0.000000  1900.000000      0.000000  \n",
              "25%         0.000000  1951.000000      0.000000  \n",
              "50%         0.000000  1976.000000      0.000000  \n",
              "75%       610.000000  1997.000000   1999.000000  \n",
              "max      4820.000000  2014.000000   2014.000000  "
            ],
            "text/html": [
              "\n",
              "  <div id=\"df-d3e374fc-08cf-489a-8df7-98aac324cf3d\" class=\"colab-df-container\">\n",
              "    <div>\n",
              "<style scoped>\n",
              "    .dataframe tbody tr th:only-of-type {\n",
              "        vertical-align: middle;\n",
              "    }\n",
              "\n",
              "    .dataframe tbody tr th {\n",
              "        vertical-align: top;\n",
              "    }\n",
              "\n",
              "    .dataframe thead th {\n",
              "        text-align: right;\n",
              "    }\n",
              "</style>\n",
              "<table border=\"1\" class=\"dataframe\">\n",
              "  <thead>\n",
              "    <tr style=\"text-align: right;\">\n",
              "      <th></th>\n",
              "      <th>price</th>\n",
              "      <th>bedrooms</th>\n",
              "      <th>bathrooms</th>\n",
              "      <th>sqft_living</th>\n",
              "      <th>sqft_lot</th>\n",
              "      <th>floors</th>\n",
              "      <th>waterfront</th>\n",
              "      <th>view</th>\n",
              "      <th>condition</th>\n",
              "      <th>sqft_above</th>\n",
              "      <th>sqft_basement</th>\n",
              "      <th>yr_built</th>\n",
              "      <th>yr_renovated</th>\n",
              "    </tr>\n",
              "  </thead>\n",
              "  <tbody>\n",
              "    <tr>\n",
              "      <th>count</th>\n",
              "      <td>4.600000e+03</td>\n",
              "      <td>4600.000000</td>\n",
              "      <td>4600.000000</td>\n",
              "      <td>4600.000000</td>\n",
              "      <td>4.600000e+03</td>\n",
              "      <td>4600.000000</td>\n",
              "      <td>4600.000000</td>\n",
              "      <td>4600.000000</td>\n",
              "      <td>4600.000000</td>\n",
              "      <td>4600.000000</td>\n",
              "      <td>4600.000000</td>\n",
              "      <td>4600.000000</td>\n",
              "      <td>4600.000000</td>\n",
              "    </tr>\n",
              "    <tr>\n",
              "      <th>mean</th>\n",
              "      <td>5.519630e+05</td>\n",
              "      <td>3.400870</td>\n",
              "      <td>2.160815</td>\n",
              "      <td>2139.346957</td>\n",
              "      <td>1.485252e+04</td>\n",
              "      <td>1.512065</td>\n",
              "      <td>0.007174</td>\n",
              "      <td>0.240652</td>\n",
              "      <td>3.451739</td>\n",
              "      <td>1827.265435</td>\n",
              "      <td>312.081522</td>\n",
              "      <td>1970.786304</td>\n",
              "      <td>808.608261</td>\n",
              "    </tr>\n",
              "    <tr>\n",
              "      <th>std</th>\n",
              "      <td>5.638347e+05</td>\n",
              "      <td>0.908848</td>\n",
              "      <td>0.783781</td>\n",
              "      <td>963.206916</td>\n",
              "      <td>3.588444e+04</td>\n",
              "      <td>0.538288</td>\n",
              "      <td>0.084404</td>\n",
              "      <td>0.778405</td>\n",
              "      <td>0.677230</td>\n",
              "      <td>862.168977</td>\n",
              "      <td>464.137228</td>\n",
              "      <td>29.731848</td>\n",
              "      <td>979.414536</td>\n",
              "    </tr>\n",
              "    <tr>\n",
              "      <th>min</th>\n",
              "      <td>0.000000e+00</td>\n",
              "      <td>0.000000</td>\n",
              "      <td>0.000000</td>\n",
              "      <td>370.000000</td>\n",
              "      <td>6.380000e+02</td>\n",
              "      <td>1.000000</td>\n",
              "      <td>0.000000</td>\n",
              "      <td>0.000000</td>\n",
              "      <td>1.000000</td>\n",
              "      <td>370.000000</td>\n",
              "      <td>0.000000</td>\n",
              "      <td>1900.000000</td>\n",
              "      <td>0.000000</td>\n",
              "    </tr>\n",
              "    <tr>\n",
              "      <th>25%</th>\n",
              "      <td>3.228750e+05</td>\n",
              "      <td>3.000000</td>\n",
              "      <td>1.750000</td>\n",
              "      <td>1460.000000</td>\n",
              "      <td>5.000750e+03</td>\n",
              "      <td>1.000000</td>\n",
              "      <td>0.000000</td>\n",
              "      <td>0.000000</td>\n",
              "      <td>3.000000</td>\n",
              "      <td>1190.000000</td>\n",
              "      <td>0.000000</td>\n",
              "      <td>1951.000000</td>\n",
              "      <td>0.000000</td>\n",
              "    </tr>\n",
              "    <tr>\n",
              "      <th>50%</th>\n",
              "      <td>4.609435e+05</td>\n",
              "      <td>3.000000</td>\n",
              "      <td>2.250000</td>\n",
              "      <td>1980.000000</td>\n",
              "      <td>7.683000e+03</td>\n",
              "      <td>1.500000</td>\n",
              "      <td>0.000000</td>\n",
              "      <td>0.000000</td>\n",
              "      <td>3.000000</td>\n",
              "      <td>1590.000000</td>\n",
              "      <td>0.000000</td>\n",
              "      <td>1976.000000</td>\n",
              "      <td>0.000000</td>\n",
              "    </tr>\n",
              "    <tr>\n",
              "      <th>75%</th>\n",
              "      <td>6.549625e+05</td>\n",
              "      <td>4.000000</td>\n",
              "      <td>2.500000</td>\n",
              "      <td>2620.000000</td>\n",
              "      <td>1.100125e+04</td>\n",
              "      <td>2.000000</td>\n",
              "      <td>0.000000</td>\n",
              "      <td>0.000000</td>\n",
              "      <td>4.000000</td>\n",
              "      <td>2300.000000</td>\n",
              "      <td>610.000000</td>\n",
              "      <td>1997.000000</td>\n",
              "      <td>1999.000000</td>\n",
              "    </tr>\n",
              "    <tr>\n",
              "      <th>max</th>\n",
              "      <td>2.659000e+07</td>\n",
              "      <td>9.000000</td>\n",
              "      <td>8.000000</td>\n",
              "      <td>13540.000000</td>\n",
              "      <td>1.074218e+06</td>\n",
              "      <td>3.500000</td>\n",
              "      <td>1.000000</td>\n",
              "      <td>4.000000</td>\n",
              "      <td>5.000000</td>\n",
              "      <td>9410.000000</td>\n",
              "      <td>4820.000000</td>\n",
              "      <td>2014.000000</td>\n",
              "      <td>2014.000000</td>\n",
              "    </tr>\n",
              "  </tbody>\n",
              "</table>\n",
              "</div>\n",
              "    <div class=\"colab-df-buttons\">\n",
              "\n",
              "  <div class=\"colab-df-container\">\n",
              "    <button class=\"colab-df-convert\" onclick=\"convertToInteractive('df-d3e374fc-08cf-489a-8df7-98aac324cf3d')\"\n",
              "            title=\"Convert this dataframe to an interactive table.\"\n",
              "            style=\"display:none;\">\n",
              "\n",
              "  <svg xmlns=\"http://www.w3.org/2000/svg\" height=\"24px\" viewBox=\"0 -960 960 960\">\n",
              "    <path d=\"M120-120v-720h720v720H120Zm60-500h600v-160H180v160Zm220 220h160v-160H400v160Zm0 220h160v-160H400v160ZM180-400h160v-160H180v160Zm440 0h160v-160H620v160ZM180-180h160v-160H180v160Zm440 0h160v-160H620v160Z\"/>\n",
              "  </svg>\n",
              "    </button>\n",
              "\n",
              "  <style>\n",
              "    .colab-df-container {\n",
              "      display:flex;\n",
              "      gap: 12px;\n",
              "    }\n",
              "\n",
              "    .colab-df-convert {\n",
              "      background-color: #E8F0FE;\n",
              "      border: none;\n",
              "      border-radius: 50%;\n",
              "      cursor: pointer;\n",
              "      display: none;\n",
              "      fill: #1967D2;\n",
              "      height: 32px;\n",
              "      padding: 0 0 0 0;\n",
              "      width: 32px;\n",
              "    }\n",
              "\n",
              "    .colab-df-convert:hover {\n",
              "      background-color: #E2EBFA;\n",
              "      box-shadow: 0px 1px 2px rgba(60, 64, 67, 0.3), 0px 1px 3px 1px rgba(60, 64, 67, 0.15);\n",
              "      fill: #174EA6;\n",
              "    }\n",
              "\n",
              "    .colab-df-buttons div {\n",
              "      margin-bottom: 4px;\n",
              "    }\n",
              "\n",
              "    [theme=dark] .colab-df-convert {\n",
              "      background-color: #3B4455;\n",
              "      fill: #D2E3FC;\n",
              "    }\n",
              "\n",
              "    [theme=dark] .colab-df-convert:hover {\n",
              "      background-color: #434B5C;\n",
              "      box-shadow: 0px 1px 3px 1px rgba(0, 0, 0, 0.15);\n",
              "      filter: drop-shadow(0px 1px 2px rgba(0, 0, 0, 0.3));\n",
              "      fill: #FFFFFF;\n",
              "    }\n",
              "  </style>\n",
              "\n",
              "    <script>\n",
              "      const buttonEl =\n",
              "        document.querySelector('#df-d3e374fc-08cf-489a-8df7-98aac324cf3d button.colab-df-convert');\n",
              "      buttonEl.style.display =\n",
              "        google.colab.kernel.accessAllowed ? 'block' : 'none';\n",
              "\n",
              "      async function convertToInteractive(key) {\n",
              "        const element = document.querySelector('#df-d3e374fc-08cf-489a-8df7-98aac324cf3d');\n",
              "        const dataTable =\n",
              "          await google.colab.kernel.invokeFunction('convertToInteractive',\n",
              "                                                    [key], {});\n",
              "        if (!dataTable) return;\n",
              "\n",
              "        const docLinkHtml = 'Like what you see? Visit the ' +\n",
              "          '<a target=\"_blank\" href=https://colab.research.google.com/notebooks/data_table.ipynb>data table notebook</a>'\n",
              "          + ' to learn more about interactive tables.';\n",
              "        element.innerHTML = '';\n",
              "        dataTable['output_type'] = 'display_data';\n",
              "        await google.colab.output.renderOutput(dataTable, element);\n",
              "        const docLink = document.createElement('div');\n",
              "        docLink.innerHTML = docLinkHtml;\n",
              "        element.appendChild(docLink);\n",
              "      }\n",
              "    </script>\n",
              "  </div>\n",
              "\n",
              "\n",
              "    <div id=\"df-d77307b6-1d54-405b-90b9-67eb17c88746\">\n",
              "      <button class=\"colab-df-quickchart\" onclick=\"quickchart('df-d77307b6-1d54-405b-90b9-67eb17c88746')\"\n",
              "                title=\"Suggest charts\"\n",
              "                style=\"display:none;\">\n",
              "\n",
              "<svg xmlns=\"http://www.w3.org/2000/svg\" height=\"24px\"viewBox=\"0 0 24 24\"\n",
              "     width=\"24px\">\n",
              "    <g>\n",
              "        <path d=\"M19 3H5c-1.1 0-2 .9-2 2v14c0 1.1.9 2 2 2h14c1.1 0 2-.9 2-2V5c0-1.1-.9-2-2-2zM9 17H7v-7h2v7zm4 0h-2V7h2v10zm4 0h-2v-4h2v4z\"/>\n",
              "    </g>\n",
              "</svg>\n",
              "      </button>\n",
              "\n",
              "<style>\n",
              "  .colab-df-quickchart {\n",
              "      --bg-color: #E8F0FE;\n",
              "      --fill-color: #1967D2;\n",
              "      --hover-bg-color: #E2EBFA;\n",
              "      --hover-fill-color: #174EA6;\n",
              "      --disabled-fill-color: #AAA;\n",
              "      --disabled-bg-color: #DDD;\n",
              "  }\n",
              "\n",
              "  [theme=dark] .colab-df-quickchart {\n",
              "      --bg-color: #3B4455;\n",
              "      --fill-color: #D2E3FC;\n",
              "      --hover-bg-color: #434B5C;\n",
              "      --hover-fill-color: #FFFFFF;\n",
              "      --disabled-bg-color: #3B4455;\n",
              "      --disabled-fill-color: #666;\n",
              "  }\n",
              "\n",
              "  .colab-df-quickchart {\n",
              "    background-color: var(--bg-color);\n",
              "    border: none;\n",
              "    border-radius: 50%;\n",
              "    cursor: pointer;\n",
              "    display: none;\n",
              "    fill: var(--fill-color);\n",
              "    height: 32px;\n",
              "    padding: 0;\n",
              "    width: 32px;\n",
              "  }\n",
              "\n",
              "  .colab-df-quickchart:hover {\n",
              "    background-color: var(--hover-bg-color);\n",
              "    box-shadow: 0 1px 2px rgba(60, 64, 67, 0.3), 0 1px 3px 1px rgba(60, 64, 67, 0.15);\n",
              "    fill: var(--button-hover-fill-color);\n",
              "  }\n",
              "\n",
              "  .colab-df-quickchart-complete:disabled,\n",
              "  .colab-df-quickchart-complete:disabled:hover {\n",
              "    background-color: var(--disabled-bg-color);\n",
              "    fill: var(--disabled-fill-color);\n",
              "    box-shadow: none;\n",
              "  }\n",
              "\n",
              "  .colab-df-spinner {\n",
              "    border: 2px solid var(--fill-color);\n",
              "    border-color: transparent;\n",
              "    border-bottom-color: var(--fill-color);\n",
              "    animation:\n",
              "      spin 1s steps(1) infinite;\n",
              "  }\n",
              "\n",
              "  @keyframes spin {\n",
              "    0% {\n",
              "      border-color: transparent;\n",
              "      border-bottom-color: var(--fill-color);\n",
              "      border-left-color: var(--fill-color);\n",
              "    }\n",
              "    20% {\n",
              "      border-color: transparent;\n",
              "      border-left-color: var(--fill-color);\n",
              "      border-top-color: var(--fill-color);\n",
              "    }\n",
              "    30% {\n",
              "      border-color: transparent;\n",
              "      border-left-color: var(--fill-color);\n",
              "      border-top-color: var(--fill-color);\n",
              "      border-right-color: var(--fill-color);\n",
              "    }\n",
              "    40% {\n",
              "      border-color: transparent;\n",
              "      border-right-color: var(--fill-color);\n",
              "      border-top-color: var(--fill-color);\n",
              "    }\n",
              "    60% {\n",
              "      border-color: transparent;\n",
              "      border-right-color: var(--fill-color);\n",
              "    }\n",
              "    80% {\n",
              "      border-color: transparent;\n",
              "      border-right-color: var(--fill-color);\n",
              "      border-bottom-color: var(--fill-color);\n",
              "    }\n",
              "    90% {\n",
              "      border-color: transparent;\n",
              "      border-bottom-color: var(--fill-color);\n",
              "    }\n",
              "  }\n",
              "</style>\n",
              "\n",
              "      <script>\n",
              "        async function quickchart(key) {\n",
              "          const quickchartButtonEl =\n",
              "            document.querySelector('#' + key + ' button');\n",
              "          quickchartButtonEl.disabled = true;  // To prevent multiple clicks.\n",
              "          quickchartButtonEl.classList.add('colab-df-spinner');\n",
              "          try {\n",
              "            const charts = await google.colab.kernel.invokeFunction(\n",
              "                'suggestCharts', [key], {});\n",
              "          } catch (error) {\n",
              "            console.error('Error during call to suggestCharts:', error);\n",
              "          }\n",
              "          quickchartButtonEl.classList.remove('colab-df-spinner');\n",
              "          quickchartButtonEl.classList.add('colab-df-quickchart-complete');\n",
              "        }\n",
              "        (() => {\n",
              "          let quickchartButtonEl =\n",
              "            document.querySelector('#df-d77307b6-1d54-405b-90b9-67eb17c88746 button');\n",
              "          quickchartButtonEl.style.display =\n",
              "            google.colab.kernel.accessAllowed ? 'block' : 'none';\n",
              "        })();\n",
              "      </script>\n",
              "    </div>\n",
              "\n",
              "    </div>\n",
              "  </div>\n"
            ],
            "application/vnd.google.colaboratory.intrinsic+json": {
              "type": "dataframe",
              "summary": "{\n  \"name\": \"dataset\",\n  \"rows\": 8,\n  \"fields\": [\n    {\n      \"column\": \"price\",\n      \"properties\": {\n        \"dtype\": \"number\",\n        \"std\": 9275059.182517057,\n        \"min\": 0.0,\n        \"max\": 26590000.0,\n        \"num_unique_values\": 8,\n        \"samples\": [\n          551962.9884732141,\n          460943.46153850004,\n          4600.0\n        ],\n        \"semantic_type\": \"\",\n        \"description\": \"\"\n      }\n    },\n    {\n      \"column\": \"bedrooms\",\n      \"properties\": {\n        \"dtype\": \"number\",\n        \"std\": 1625.1704657278506,\n        \"min\": 0.0,\n        \"max\": 4600.0,\n        \"num_unique_values\": 7,\n        \"samples\": [\n          4600.0,\n          3.4008695652173913,\n          4.0\n        ],\n        \"semantic_type\": \"\",\n        \"description\": \"\"\n      }\n    },\n    {\n      \"column\": \"bathrooms\",\n      \"properties\": {\n        \"dtype\": \"number\",\n        \"std\": 1625.4662774309609,\n        \"min\": 0.0,\n        \"max\": 4600.0,\n        \"num_unique_values\": 8,\n        \"samples\": [\n          2.1608152173913044,\n          2.25,\n          4600.0\n        ],\n        \"semantic_type\": \"\",\n        \"description\": \"\"\n      }\n    },\n    {\n      \"column\": \"sqft_living\",\n      \"properties\": {\n        \"dtype\": \"number\",\n        \"std\": 4264.943363150165,\n        \"min\": 370.0,\n        \"max\": 13540.0,\n        \"num_unique_values\": 8,\n        \"samples\": [\n          2139.3469565217392,\n          1980.0,\n          4600.0\n        ],\n        \"semantic_type\": \"\",\n        \"description\": \"\"\n      }\n    },\n    {\n      \"column\": \"sqft_lot\",\n      \"properties\": {\n        \"dtype\": \"number\",\n        \"std\": 375927.4133906034,\n        \"min\": 638.0,\n        \"max\": 1074218.0,\n        \"num_unique_values\": 8,\n        \"samples\": [\n          14852.516086956522,\n          7683.0,\n          4600.0\n        ],\n        \"semantic_type\": \"\",\n        \"description\": \"\"\n      }\n    },\n    {\n      \"column\": \"floors\",\n      \"properties\": {\n        \"dtype\": \"number\",\n        \"std\": 1625.7877170191503,\n        \"min\": 0.5382883772969805,\n        \"max\": 4600.0,\n        \"num_unique_values\": 7,\n        \"samples\": [\n          4600.0,\n          1.5120652173913043,\n          2.0\n        ],\n        \"semantic_type\": \"\",\n        \"description\": \"\"\n      }\n    },\n    {\n      \"column\": \"waterfront\",\n      \"properties\": {\n        \"dtype\": \"number\",\n        \"std\": 1626.2905004903055,\n        \"min\": 0.0,\n        \"max\": 4600.0,\n        \"num_unique_values\": 5,\n        \"samples\": [\n          0.007173913043478261,\n          1.0,\n          0.08440377189474405\n        ],\n        \"semantic_type\": \"\",\n        \"description\": \"\"\n      }\n    },\n    {\n      \"column\": \"view\",\n      \"properties\": {\n        \"dtype\": \"number\",\n        \"std\": 1626.09266997988,\n        \"min\": 0.0,\n        \"max\": 4600.0,\n        \"num_unique_values\": 5,\n        \"samples\": [\n          0.24065217391304347,\n          4.0,\n          0.7784047172125442\n        ],\n        \"semantic_type\": \"\",\n        \"description\": \"\"\n      }\n    },\n    {\n      \"column\": \"condition\",\n      \"properties\": {\n        \"dtype\": \"number\",\n        \"std\": 1625.3295671070564,\n        \"min\": 0.6772297675592975,\n        \"max\": 4600.0,\n        \"num_unique_values\": 7,\n        \"samples\": [\n          4600.0,\n          3.4517391304347824,\n          4.0\n        ],\n        \"semantic_type\": \"\",\n        \"description\": \"\"\n      }\n    },\n    {\n      \"column\": \"sqft_above\",\n      \"properties\": {\n        \"dtype\": \"number\",\n        \"std\": 2972.174617994678,\n        \"min\": 370.0,\n        \"max\": 9410.0,\n        \"num_unique_values\": 8,\n        \"samples\": [\n          1827.2654347826087,\n          1590.0,\n          4600.0\n        ],\n        \"semantic_type\": \"\",\n        \"description\": \"\"\n      }\n    },\n    {\n      \"column\": \"sqft_basement\",\n      \"properties\": {\n        \"dtype\": \"number\",\n        \"std\": 2086.710424982233,\n        \"min\": 0.0,\n        \"max\": 4820.0,\n        \"num_unique_values\": 6,\n        \"samples\": [\n          4600.0,\n          312.08152173913044,\n          4820.0\n        ],\n        \"semantic_type\": \"\",\n        \"description\": \"\"\n      }\n    },\n    {\n      \"column\": \"yr_built\",\n      \"properties\": {\n        \"dtype\": \"number\",\n        \"std\": 1232.4166015236005,\n        \"min\": 29.731848390099724,\n        \"max\": 4600.0,\n        \"num_unique_values\": 8,\n        \"samples\": [\n          1970.786304347826,\n          1976.0,\n          4600.0\n        ],\n        \"semantic_type\": \"\",\n        \"description\": \"\"\n      }\n    },\n    {\n      \"column\": \"yr_renovated\",\n      \"properties\": {\n        \"dtype\": \"number\",\n        \"std\": 1572.1976316150806,\n        \"min\": 0.0,\n        \"max\": 4600.0,\n        \"num_unique_values\": 6,\n        \"samples\": [\n          4600.0,\n          808.6082608695652,\n          2014.0\n        ],\n        \"semantic_type\": \"\",\n        \"description\": \"\"\n      }\n    }\n  ]\n}"
            }
          },
          "metadata": {},
          "execution_count": 6
        }
      ]
    },
    {
      "cell_type": "markdown",
      "source": [
        "## Descrição do dataset:\n",
        "date: A data em que a casa foi vendida.\n",
        "\n",
        "price: O preço de venda da casa em dólares americanos.\n",
        "\n",
        "bedrooms: O número de quartos na casa.\n",
        "\n",
        "bathrooms: O número de banheiros na casa.\n",
        "\n",
        "sqft_living: A área do espaço interno da casa em pés quadrados.\n",
        "\n",
        "sqft_lot: A área total do terreno em pés quadrados.\n",
        "\n",
        "floors: O número de andares (níveis) da casa.\n",
        "\n",
        "waterfront: Uma variável que indica se a casa tem ou não vista para o mar/lago (geralmente 0 para não e 1 para sim).\n",
        "\n",
        "view: Uma classificação numérica da qualidade da vista da propriedade (provavelmente de 0 a 4).\n",
        "\n",
        "condition: Uma classificação da condição geral da casa (provavelmente de 1 a 5).\n",
        "\n",
        "sqft_above: A área do espaço interno da casa que está acima do nível do solo, em pés quadrados.\n",
        "\n",
        "sqft_basement: A área do porão em pés quadrados.\n",
        "\n",
        "yr_built: O ano em que a casa foi construída.\n",
        "\n",
        "yr_renovated: O ano em que a casa foi renovada pela última vez. Se for 0, significa que nunca foi renovada.\n",
        "\n",
        "street: O endereço da rua da propriedade.\n",
        "\n",
        "city: A cidade onde a propriedade está localizada.\n",
        "\n",
        "statezip: O estado e o código postal (CEP) da propriedade.\n",
        "\n",
        "country: O país onde a propriedade está localizada."
      ],
      "metadata": {
        "id": "hiE5vX-vfk8R"
      }
    },
    {
      "cell_type": "markdown",
      "source": [
        "# Checagem geral"
      ],
      "metadata": {
        "id": "lmQe_fAagKKJ"
      }
    },
    {
      "cell_type": "markdown",
      "source": [
        "Verificar informações sobre os tipos de dados e a contagem."
      ],
      "metadata": {
        "id": "lTkVpkPIg7Ws"
      }
    },
    {
      "cell_type": "code",
      "source": [
        "dataset.info()"
      ],
      "metadata": {
        "colab": {
          "base_uri": "https://localhost:8080/"
        },
        "id": "jOpbwI20fu8J",
        "outputId": "ac46268b-df17-48ea-ee6c-24e66f02e02a"
      },
      "execution_count": null,
      "outputs": [
        {
          "output_type": "stream",
          "name": "stdout",
          "text": [
            "<class 'pandas.core.frame.DataFrame'>\n",
            "RangeIndex: 4600 entries, 0 to 4599\n",
            "Data columns (total 18 columns):\n",
            " #   Column         Non-Null Count  Dtype  \n",
            "---  ------         --------------  -----  \n",
            " 0   date           4600 non-null   object \n",
            " 1   price          4600 non-null   float64\n",
            " 2   bedrooms       4600 non-null   float64\n",
            " 3   bathrooms      4600 non-null   float64\n",
            " 4   sqft_living    4600 non-null   int64  \n",
            " 5   sqft_lot       4600 non-null   int64  \n",
            " 6   floors         4600 non-null   float64\n",
            " 7   waterfront     4600 non-null   int64  \n",
            " 8   view           4600 non-null   int64  \n",
            " 9   condition      4600 non-null   int64  \n",
            " 10  sqft_above     4600 non-null   int64  \n",
            " 11  sqft_basement  4600 non-null   int64  \n",
            " 12  yr_built       4600 non-null   int64  \n",
            " 13  yr_renovated   4600 non-null   int64  \n",
            " 14  street         4600 non-null   object \n",
            " 15  city           4600 non-null   object \n",
            " 16  statezip       4600 non-null   object \n",
            " 17  country        4600 non-null   object \n",
            "dtypes: float64(4), int64(9), object(5)\n",
            "memory usage: 647.0+ KB\n"
          ]
        }
      ]
    },
    {
      "cell_type": "markdown",
      "source": [
        "Verificar se tem dados nulos"
      ],
      "metadata": {
        "id": "ip4dKTu9hNuq"
      }
    },
    {
      "cell_type": "code",
      "source": [
        "null_values = dataset.isnull().sum()\n",
        "print(null_values)"
      ],
      "metadata": {
        "colab": {
          "base_uri": "https://localhost:8080/"
        },
        "id": "ACOPAkGNhHxU",
        "outputId": "5a03e44d-17ad-4a03-b591-8a4d509d08b4"
      },
      "execution_count": null,
      "outputs": [
        {
          "output_type": "stream",
          "name": "stdout",
          "text": [
            "date             0\n",
            "price            0\n",
            "bedrooms         0\n",
            "bathrooms        0\n",
            "sqft_living      0\n",
            "sqft_lot         0\n",
            "floors           0\n",
            "waterfront       0\n",
            "view             0\n",
            "condition        0\n",
            "sqft_above       0\n",
            "sqft_basement    0\n",
            "yr_built         0\n",
            "yr_renovated     0\n",
            "street           0\n",
            "city             0\n",
            "statezip         0\n",
            "country          0\n",
            "dtype: int64\n"
          ]
        }
      ]
    },
    {
      "cell_type": "markdown",
      "source": [
        "Verificar se tem colunas vazias"
      ],
      "metadata": {
        "id": "2cMdUZ3hhsnw"
      }
    },
    {
      "cell_type": "code",
      "source": [
        "unique_values = dataset.nunique()\n",
        "print(unique_values)"
      ],
      "metadata": {
        "colab": {
          "base_uri": "https://localhost:8080/"
        },
        "id": "40E0evO-huA9",
        "outputId": "26c3c203-7e72-453b-ba2d-33cfbe5d9d91"
      },
      "execution_count": null,
      "outputs": [
        {
          "output_type": "stream",
          "name": "stdout",
          "text": [
            "date               70\n",
            "price            1741\n",
            "bedrooms           10\n",
            "bathrooms          26\n",
            "sqft_living       566\n",
            "sqft_lot         3113\n",
            "floors              6\n",
            "waterfront          2\n",
            "view                5\n",
            "condition           5\n",
            "sqft_above        511\n",
            "sqft_basement     207\n",
            "yr_built          115\n",
            "yr_renovated       60\n",
            "street           4525\n",
            "city               44\n",
            "statezip           77\n",
            "country             1\n",
            "dtype: int64\n"
          ]
        }
      ]
    },
    {
      "cell_type": "markdown",
      "source": [
        "Obs: Vamos excluir a coluna country pois todas as casas estão no mesmo país."
      ],
      "metadata": {
        "id": "x-gZ1pyTh83y"
      }
    },
    {
      "cell_type": "code",
      "source": [
        "dataset.drop(columns=['country'], inplace=True)"
      ],
      "metadata": {
        "id": "VjzHFGUMhyBa"
      },
      "execution_count": null,
      "outputs": []
    },
    {
      "cell_type": "markdown",
      "source": [
        "# Visualização dos dados"
      ],
      "metadata": {
        "id": "48qtm7E_iPea"
      }
    },
    {
      "cell_type": "code",
      "source": [
        "import matplotlib.pyplot as plt\n",
        "import seaborn as sns\n"
      ],
      "metadata": {
        "id": "nvXaA0IuiSKs"
      },
      "execution_count": null,
      "outputs": []
    },
    {
      "cell_type": "code",
      "source": [
        "## Análise de distribuição"
      ],
      "metadata": {
        "id": "F3WfGrfykkDc"
      },
      "execution_count": null,
      "outputs": []
    },
    {
      "cell_type": "code",
      "source": [
        "sns.set_theme(style=\"darkgrid\")\n",
        "sns.displot(data= dataset['bedrooms'], kde=True)"
      ],
      "metadata": {
        "colab": {
          "base_uri": "https://localhost:8080/",
          "height": 518
        },
        "id": "ucGlAtn3iX1K",
        "outputId": "7b1f19a9-b61d-4e6c-b083-dfc895949e56"
      },
      "execution_count": null,
      "outputs": [
        {
          "output_type": "execute_result",
          "data": {
            "text/plain": [
              "<seaborn.axisgrid.FacetGrid at 0x7b2a8bf9a4b0>"
            ]
          },
          "metadata": {},
          "execution_count": 19
        },
        {
          "output_type": "display_data",
          "data": {
            "text/plain": [
              "<Figure size 500x500 with 1 Axes>"
            ],
            "image/png": "[encoded data removed]"
          },
          "metadata": {}
        }
      ]
    },
    {
      "cell_type": "code",
      "source": [
        "sns.set_theme(style=\"darkgrid\")\n",
        "sns.displot(data= dataset['bathrooms'], kde=True)"
      ],
      "metadata": {
        "colab": {
          "base_uri": "https://localhost:8080/",
          "height": 518
        },
        "id": "nL0t6mFtktAh",
        "outputId": "98cb1abe-44fe-4617-cfd3-2cc8eba8674b"
      },
      "execution_count": null,
      "outputs": [
        {
          "output_type": "execute_result",
          "data": {
            "text/plain": [
              "<seaborn.axisgrid.FacetGrid at 0x7b2a8dc712e0>"
            ]
          },
          "metadata": {},
          "execution_count": 20
        },
        {
          "output_type": "display_data",
          "data": {
            "text/plain": [
              "<Figure size 500x500 with 1 Axes>"
            ],
            "image/png": "[encoded data removed]"
          },
          "metadata": {}
        }
      ]
    },
    {
      "cell_type": "code",
      "source": [
        "dataset['city'].value_counts().plot(kind='bar')"
      ],
      "metadata": {
        "colab": {
          "base_uri": "https://localhost:8080/",
          "height": 604
        },
        "id": "abrbMVVqk20w",
        "outputId": "df479888-d3d6-4cd9-d198-852e2e29d6fe"
      },
      "execution_count": null,
      "outputs": [
        {
          "output_type": "execute_result",
          "data": {
            "text/plain": [
              "<Axes: xlabel='city'>"
            ]
          },
          "metadata": {},
          "execution_count": 24
        },
        {
          "output_type": "display_data",
          "data": {
            "text/plain": [
              "<Figure size 640x480 with 1 Axes>"
            ],
            "image/png": "[encoded data removed]"
          },
          "metadata": {}
        }
      ]
    },
    {
      "cell_type": "code",
      "source": [
        "dataset['view'].value_counts().plot(kind='bar')"
      ],
      "metadata": {
        "colab": {
          "base_uri": "https://localhost:8080/",
          "height": 470
        },
        "id": "kYyrn2gdleVI",
        "outputId": "fa535584-6ded-4d97-bc0e-a688b135090e"
      },
      "execution_count": null,
      "outputs": [
        {
          "output_type": "execute_result",
          "data": {
            "text/plain": [
              "<Axes: xlabel='view'>"
            ]
          },
          "metadata": {},
          "execution_count": 25
        },
        {
          "output_type": "display_data",
          "data": {
            "text/plain": [
              "<Figure size 640x480 with 1 Axes>"
            ],
            "image/png": "[encoded data removed]"
          },
          "metadata": {}
        }
      ]
    },
    {
      "cell_type": "code",
      "source": [
        "dataset['condition'].value_counts().plot(kind='bar')"
      ],
      "metadata": {
        "colab": {
          "base_uri": "https://localhost:8080/",
          "height": 473
        },
        "id": "XoVhoHOClnXS",
        "outputId": "f150a54f-7f2c-419b-cce9-6cfe38802f96"
      },
      "execution_count": null,
      "outputs": [
        {
          "output_type": "execute_result",
          "data": {
            "text/plain": [
              "<Axes: xlabel='condition'>"
            ]
          },
          "metadata": {},
          "execution_count": 26
        },
        {
          "output_type": "display_data",
          "data": {
            "text/plain": [
              "<Figure size 640x480 with 1 Axes>"
            ],
            "image/png": "[encoded data removed]"
          },
          "metadata": {}
        }
      ]
    },
    {
      "cell_type": "code",
      "source": [
        "dataset['waterfront'].value_counts().plot(kind='bar')"
      ],
      "metadata": {
        "colab": {
          "base_uri": "https://localhost:8080/",
          "height": 469
        },
        "id": "oghlbLzNl1Tq",
        "outputId": "ead59a73-3f8a-4f88-e154-ec8572b2c547"
      },
      "execution_count": null,
      "outputs": [
        {
          "output_type": "execute_result",
          "data": {
            "text/plain": [
              "<Axes: xlabel='waterfront'>"
            ]
          },
          "metadata": {},
          "execution_count": 29
        },
        {
          "output_type": "display_data",
          "data": {
            "text/plain": [
              "<Figure size 640x480 with 1 Axes>"
            ],
            "image/png": "[encoded data removed]"
          },
          "metadata": {}
        }
      ]
    },
    {
      "cell_type": "markdown",
      "source": [
        "# Aplicar OneHotEncoder em variáveis categóricas"
      ],
      "metadata": {
        "id": "AzQiSXEQmEkC"
      }
    },
    {
      "cell_type": "code",
      "source": [
        "import pandas as pd\n",
        "from sklearn.preprocessing import OneHotEncoder\n",
        "\n",
        "# Carregar o conjunto de dados\n",
        "df = pd.read_csv('/content/drive/MyDrive/data_science/data.csv')\n",
        "\n",
        "# Selecionar a coluna 'city' para a codificação\n",
        "# É importante manter o formato de DataFrame com colchetes duplos [[]]\n",
        "city_column = df[['city']]\n",
        "\n",
        "# Criar uma instância (um objeto) do OneHotEncoder.\n",
        "# sparse_output=False é usado para que o resultado seja uma matriz normal,\n",
        "# o que é mais fácil de visualizar. O padrão é retornar uma matriz esparsa.\n",
        "onehot_encoder = OneHotEncoder(sparse_output=False)\n",
        "\n",
        "# Treinar o encoder e transformar a coluna 'city'\n",
        "city_encoded = onehot_encoder.fit_transform(city_column)\n",
        "\n",
        "# Opcional: Mostrar o resultado\n",
        "# Mostra o formato da nova matriz (número de linhas, número de novas colunas)\n",
        "print(f\"Formato da matriz resultante: {city_encoded.shape}\")\n",
        "\n",
        "# Mostra as 5 primeiras linhas do resultado\n",
        "print(\"\\nCinco primeiras linhas da matriz codificada:\")\n",
        "print(city_encoded[:5])\n",
        "\n",
        "# Opcional: Ver os nomes das novas colunas criadas\n",
        "print(\"\\nNomes das novas colunas:\")\n",
        "print(onehot_encoder.get_feature_names_out(['city']))"
      ],
      "metadata": {
        "colab": {
          "base_uri": "https://localhost:8080/"
        },
        "id": "GZiiZyyUmLZi",
        "outputId": "5d618f8c-815b-40c8-e067-2ce9c90da018"
      },
      "execution_count": null,
      "outputs": [
        {
          "output_type": "stream",
          "name": "stdout",
          "text": [
            "Formato da matriz resultante: (4600, 44)\n",
            "\n",
            "Cinco primeiras linhas da matriz codificada:\n",
            "[[0. 0. 0. 0. 0. 0. 0. 0. 0. 0. 0. 0. 0. 0. 0. 0. 0. 0. 0. 0. 0. 0. 0. 0.\n",
            "  0. 0. 0. 0. 0. 0. 0. 0. 0. 0. 0. 0. 1. 0. 0. 0. 0. 0. 0. 0.]\n",
            " [0. 0. 0. 0. 0. 0. 0. 0. 0. 0. 0. 0. 0. 0. 0. 0. 0. 0. 0. 0. 0. 0. 0. 0.\n",
            "  0. 0. 0. 0. 0. 0. 0. 0. 0. 0. 0. 1. 0. 0. 0. 0. 0. 0. 0. 0.]\n",
            " [0. 0. 0. 0. 0. 0. 0. 0. 0. 0. 0. 0. 0. 0. 0. 0. 0. 0. 1. 0. 0. 0. 0. 0.\n",
            "  0. 0. 0. 0. 0. 0. 0. 0. 0. 0. 0. 0. 0. 0. 0. 0. 0. 0. 0. 0.]\n",
            " [0. 0. 0. 1. 0. 0. 0. 0. 0. 0. 0. 0. 0. 0. 0. 0. 0. 0. 0. 0. 0. 0. 0. 0.\n",
            "  0. 0. 0. 0. 0. 0. 0. 0. 0. 0. 0. 0. 0. 0. 0. 0. 0. 0. 0. 0.]\n",
            " [0. 0. 0. 0. 0. 0. 0. 0. 0. 0. 0. 0. 0. 0. 0. 0. 0. 0. 0. 0. 0. 0. 0. 0.\n",
            "  0. 0. 0. 0. 0. 0. 0. 1. 0. 0. 0. 0. 0. 0. 0. 0. 0. 0. 0. 0.]]\n",
            "\n",
            "Nomes das novas colunas:\n",
            "['city_Algona' 'city_Auburn' 'city_Beaux Arts Village' 'city_Bellevue'\n",
            " 'city_Black Diamond' 'city_Bothell' 'city_Burien' 'city_Carnation'\n",
            " 'city_Clyde Hill' 'city_Covington' 'city_Des Moines' 'city_Duvall'\n",
            " 'city_Enumclaw' 'city_Fall City' 'city_Federal Way'\n",
            " 'city_Inglewood-Finn Hill' 'city_Issaquah' 'city_Kenmore' 'city_Kent'\n",
            " 'city_Kirkland' 'city_Lake Forest Park' 'city_Maple Valley' 'city_Medina'\n",
            " 'city_Mercer Island' 'city_Milton' 'city_Newcastle' 'city_Normandy Park'\n",
            " 'city_North Bend' 'city_Pacific' 'city_Preston' 'city_Ravensdale'\n",
            " 'city_Redmond' 'city_Renton' 'city_Sammamish' 'city_SeaTac'\n",
            " 'city_Seattle' 'city_Shoreline' 'city_Skykomish' 'city_Snoqualmie'\n",
            " 'city_Snoqualmie Pass' 'city_Tukwila' 'city_Vashon' 'city_Woodinville'\n",
            " 'city_Yarrow Point']\n"
          ]
        }
      ]
    },
    {
      "cell_type": "markdown",
      "source": [
        "# Treinamento de uma regressão linear"
      ],
      "metadata": {
        "id": "mqrcv2jGsdjh"
      }
    },
    {
      "cell_type": "markdown",
      "source": [
        "### Importação das bibliotecas"
      ],
      "metadata": {
        "id": "mt75N4XIt99L"
      }
    },
    {
      "cell_type": "code",
      "source": [
        "from sklearn.model_selection import cross_val_score, KFold\n",
        "from sklearn.linear_model import LinearRegression\n",
        "from sklearn.compose import ColumnTransformer\n",
        "from sklearn.preprocessing import OneHotEncoder, StandardScaler\n",
        "from sklearn.pipeline import Pipeline"
      ],
      "metadata": {
        "id": "FStQtOaEsiLE"
      },
      "execution_count": null,
      "outputs": []
    },
    {
      "cell_type": "markdown",
      "source": [
        "### Preparação dos dados e identificação de colunas"
      ],
      "metadata": {
        "id": "fj5BC7USuA2w"
      }
    },
    {
      "cell_type": "code",
      "source": [
        "dataset = pd.read_csv('/content/drive/MyDrive/data_science/data.csv')\n",
        "dataset.drop(columns=['country', 'date', 'street', 'statezip'], inplace=True)\n",
        "df_limpo = dataset[dataset['price'] > 0]\n",
        "X = df_limpo.drop(columns=['price'])\n",
        "y = df_limpo ['price']\n",
        "numeric_features = X.select_dtypes(include=np.number).columns.tolist()\n",
        "categorical_features = ['city']\n",
        "if 'city' in numeric_features:\n",
        "  numeric_features.remove('city')"
      ],
      "metadata": {
        "id": "DVGxFIDBoYU5"
      },
      "execution_count": null,
      "outputs": []
    },
    {
      "cell_type": "markdown",
      "source": [
        "### Criar o pepiline de pré-processamento e o modelo"
      ],
      "metadata": {
        "id": "sACtHFGeuJHC"
      }
    },
    {
      "cell_type": "code",
      "source": [
        "numeric_transformer = StandardScaler()\n",
        "categorical_transformer = OneHotEncoder(handle_unknown='ignore')\n",
        "preprocessor = ColumnTransformer(\n",
        "    transformers=[\n",
        "        ('num', numeric_transformer, numeric_features),\n",
        "        ('cat', categorical_transformer, categorical_features)\n",
        "    ]\n",
        ")\n",
        "model = LinearRegression()\n",
        "pipeline = Pipeline(steps=[('preprocessor', preprocessor),\n",
        "                        ('regressor', LinearRegression())])"
      ],
      "metadata": {
        "id": "Iic2XKLvuIsD"
      },
      "execution_count": null,
      "outputs": []
    },
    {
      "cell_type": "markdown",
      "source": [
        "### Configurar e executar a validação cruzada"
      ],
      "metadata": {
        "id": "xItRngFmvWLg"
      }
    },
    {
      "cell_type": "code",
      "source": [
        "cv = KFold(n_splits=5, shuffle=True, random_state=42)\n",
        "r2_scores = cross_val_score(pipeline, X, y, cv=cv, scoring='r2')\n",
        "mae_scores = cross_val_score(pipeline, X, y, cv=cv, scoring='neg_mean_absolute_error')\n"
      ],
      "metadata": {
        "id": "VqwI0mmwvviQ"
      },
      "execution_count": null,
      "outputs": []
    },
    {
      "cell_type": "markdown",
      "source": [
        "### Visualizar resultados:"
      ],
      "metadata": {
        "id": "RXVFLMkNxW9K"
      }
    },
    {
      "cell_type": "code",
      "source": [
        "print(\"Resultados da Avaliação com Validação Cruzada (5-Folds)\")\n",
        "print(\"=\"*60)\n",
        "print(f\"Scores de R² para cada fold: {np.round(r2_scores, 4)}\")\n",
        "print(f\"Média do R²: {r2_scores.mean():.4f}\")\n",
        "print(f\"Desvio Padrão do R²: {r2_scores.std():.4f}\")\n",
        "print(\"-\" * 60)\n",
        "print(f\"Scores de MAE para cada fold: {[f'${score:,.2f}' for score in mae_scores]}\")\n",
        "print(f\"Média do MAE: ${mae_scores.mean():,.2f}\")\n",
        "print(f\"Desvio Padrão do MAE: ${mae_scores.std():,.2f}\")"
      ],
      "metadata": {
        "colab": {
          "base_uri": "https://localhost:8080/"
        },
        "id": "-uqyqeyDxZue",
        "outputId": "304681ab-9b90-49ec-d02d-04c0e8303362"
      },
      "execution_count": null,
      "outputs": [
        {
          "output_type": "stream",
          "name": "stdout",
          "text": [
            "Resultados da Avaliação com Validação Cruzada (5-Folds)\n",
            "============================================================\n",
            "Scores de R² para cada fold: [0.678  0.0529 0.3215 0.6147 0.6927]\n",
            "Média do R²: 0.4720\n",
            "Desvio Padrão do R²: 0.2489\n",
            "------------------------------------------------------------\n",
            "Scores de MAE para cada fold: ['$-131,458.15', '$-150,088.94', '$-135,861.85', '$-129,578.94', '$-124,165.74']\n",
            "Média do MAE: $-134,230.72\n",
            "Desvio Padrão do MAE: $8,772.39\n"
          ]
        }
      ]
    },
    {
      "cell_type": "markdown",
      "source": [
        "### Descrição:\n",
        "\n",
        "A média do R² de 0.5064. Isso mostra que o modelo, na verdade, consegue explicar cerca de 50% da variação dos preços. Obs: o R² pode ser enganoso, pois seu valor sempre aumenta quando adicionamos novas features, mesmo que elas não sejam úteis. Por isso, em projetos mais avançados, preferimos o R² Ajustado, que penaliza o modelo pela inclusão de preditores não significativos.\n",
        "\n",
        "Um MAE de $134,230.72 é a métrica mais fácil de comunicar para um stakeholder ou cliente. Ela significa que, para uma casa qualquer, nossa previsão tende a errar, para menos, em cerca de 135 mil dólares. A principal característica do MAE é que ele trata todos os erros com o mesmo peso. Errar em 200k tem o dobro do peso de errar em 100k. Por ser menos sensível a outliers (previsões absurdamente erradas), ele nos dá uma visão geral do erro \"típico\" do modelo.\n",
        "\n",
        "Dica:  Quanto maior a diferença entre o RMSE e o MAE, maior a variância nos erros, o que geralmente indica que o modelo está fazendo algumas previsões muito, muito ruins para um subconjunto de imóveis (os outliers).\n",
        "\n"
      ],
      "metadata": {
        "id": "VT-QJiHOxuX7"
      }
    },
    {
      "cell_type": "markdown",
      "source": [
        "# Treinamento de um random forest regressor"
      ],
      "metadata": {
        "id": "PvC3QPhsznDn"
      }
    },
    {
      "cell_type": "markdown",
      "source": [
        "### Importação das bibliotecas"
      ],
      "metadata": {
        "id": "tOPoTeHJzwiK"
      }
    },
    {
      "cell_type": "code",
      "source": [
        "from sklearn.model_selection import cross_val_score, KFold\n",
        "from sklearn.ensemble import RandomForestRegressor\n",
        "from sklearn.compose import ColumnTransformer\n",
        "from sklearn.preprocessing import OneHotEncoder, StandardScaler\n",
        "from sklearn.pipeline import Pipeline"
      ],
      "metadata": {
        "id": "iI1Iti4Jzt-c"
      },
      "execution_count": null,
      "outputs": []
    },
    {
      "cell_type": "markdown",
      "source": [
        "### Preparação dos dados e identificação das colunas"
      ],
      "metadata": {
        "id": "nbhy57Ahz-ri"
      }
    },
    {
      "cell_type": "code",
      "source": [
        "dataset = pd.read_csv('/content/drive/MyDrive/data_science/data.csv')\n",
        "dataset.drop(columns=['country', 'date', 'street', 'statezip'], inplace=True)\n",
        "X = dataset.drop(columns=['price'])\n",
        "y = dataset['price']\n",
        "numeric_features = X.select_dtypes(include=np.number).columns.tolist()\n",
        "categorical_features = ['city']\n",
        "if 'city' in numeric_features:\n",
        "  numeric_features.remove('city')"
      ],
      "metadata": {
        "id": "2wVD0qNU0FQ2"
      },
      "execution_count": null,
      "outputs": []
    },
    {
      "cell_type": "markdown",
      "source": [
        "### Criar o pepiline de pré-processamento e o modelo"
      ],
      "metadata": {
        "id": "9meCLiHG0Ijz"
      }
    },
    {
      "cell_type": "code",
      "source": [
        "numeric_transformer = StandardScaler()\n",
        "categorical_transformer = OneHotEncoder(handle_unknown='ignore')\n",
        "preprocessor = ColumnTransformer(\n",
        "    transformers=[\n",
        "        ('num', numeric_transformer, numeric_features),\n",
        "        ('cat', categorical_transformer, categorical_features)\n",
        "    ]\n",
        ")\n",
        "model = RandomForestRegressor(n_jobs=-1, random_state=42)\n",
        "pipeline = Pipeline(steps=[('preprocessor', preprocessor),\n",
        "                        ('regressor', RandomForestRegressor())])"
      ],
      "metadata": {
        "id": "ChmKSe130Lwh"
      },
      "execution_count": null,
      "outputs": []
    },
    {
      "cell_type": "markdown",
      "source": [
        "### Configurar e executar a validação cruzada"
      ],
      "metadata": {
        "id": "7XRTKGDq0WLM"
      }
    },
    {
      "cell_type": "code",
      "source": [
        "cv = KFold(n_splits=5, shuffle=True, random_state=42)\n",
        "r2_scores = cross_val_score(pipeline, X, y, cv=cv, scoring='r2')\n",
        "mae_scores = cross_val_score(pipeline, X, y, cv=cv, scoring='neg_mean_absolute_error')\n"
      ],
      "metadata": {
        "id": "9sIyXQCA0bb1"
      },
      "execution_count": null,
      "outputs": []
    },
    {
      "cell_type": "markdown",
      "source": [
        "### Visualizar resultados:"
      ],
      "metadata": {
        "id": "GDbo-EZS0lP4"
      }
    },
    {
      "cell_type": "code",
      "source": [
        "print(\"Resultados da Avaliação com Validação Cruzada (5-Folds)\")\n",
        "print(\"=\"*60)\n",
        "print(f\"Scores de R² para cada fold: {np.round(r2_scores, 4)}\")\n",
        "print(f\"Média do R²: {r2_scores.mean():.4f}\")\n",
        "print(f\"Desvio Padrão do R²: {r2_scores.std():.4f}\")\n",
        "print(\"-\" * 60)\n",
        "print(f\"Scores de MAE para cada fold: {[f'${score:,.2f}' for score in mae_scores]}\")\n",
        "print(f\"Média do MAE: ${mae_scores.mean():,.2f}\")\n",
        "print(f\"Desvio Padrão do MAE: ${mae_scores.std():,.2f}\")"
      ],
      "metadata": {
        "colab": {
          "base_uri": "https://localhost:8080/"
        },
        "id": "NNReBNQu0p9_",
        "outputId": "8d3a4902-7834-4cbe-aa0d-37481b058cdd"
      },
      "execution_count": null,
      "outputs": [
        {
          "output_type": "stream",
          "name": "stdout",
          "text": [
            "Resultados da Avaliação com Validação Cruzada (5-Folds)\n",
            "============================================================\n",
            "Scores de R² para cada fold: [ 0.0439 -0.0838  0.4944  0.5899 -0.0254]\n",
            "Média do R²: 0.2038\n",
            "Desvio Padrão do R²: 0.2808\n",
            "------------------------------------------------------------\n",
            "Scores de MAE para cada fold: ['$-168,318.40', '$-142,669.19', '$-134,687.03', '$-121,868.03', '$-136,769.72']\n",
            "Média do MAE: $-140,862.47\n",
            "Desvio Padrão do MAE: $15,315.14\n"
          ]
        }
      ]
    },
    {
      "cell_type": "markdown",
      "source": [
        "### Analise:\n",
        "Estes resultados são extremamente inesperados e são um grande sinal de alerta. O fato de o RandomForest ter tido uma performance drasticamente pior que a Regressão Linear (R² médio de 20% vs 50%) e apresentar scores de R² negativos vai contra toda a intuição teórica. Um R² negativo significa que o modelo é pior do que simplesmente prever o preço médio para todas as casas.\n",
        "\n",
        "Isso nos diz duas coisas:\n",
        "\n",
        "O problema não está na escolha do modelo (RandomForest é um modelo poderoso).\n",
        "\n",
        "O problema quase certamente está nos dados que estamos fornecendo ao modelo.\n",
        "\n",
        "Minha Hipótese: Valores Inválidos na Coluna price\n",
        "A causa mais provável para este comportamento são dados inválidos na nossa variável alvo (price). Especificamente, suspeito que existam casas registradas com preço igual a zero.\n",
        "\n",
        "Modelos de regressão tentam minimizar o erro. Se o modelo é forçado a aprender com exemplos onde o preço é 0.0, isso pode distorcer completamente sua capacidade de generalização, levando a previsões péssimas e, consequentemente, a um R² negativo em alguns folds da validação cruzada.\n",
        "\n",
        "Ação: Vamos Investigar os Dados\n",
        "Para confirmar (ou refutar) essa hipótese, precisamos inspecionar a coluna price. Vou gerar um código simples para contar quantas casas no dataset têm preço igual a zero ou um valor muito baixo.\n",
        "\n"
      ],
      "metadata": {
        "id": "gXVFRGc82sn0"
      }
    },
    {
      "cell_type": "code",
      "source": [
        "casas_preco_zero = (dataset[dataset['price'] == 0])\n",
        "print(casas_preco_zero.count())"
      ],
      "metadata": {
        "colab": {
          "base_uri": "https://localhost:8080/"
        },
        "id": "st9aLqiO2nHa",
        "outputId": "677b9a32-2b80-428a-f062-a921cf478830"
      },
      "execution_count": null,
      "outputs": [
        {
          "output_type": "stream",
          "name": "stdout",
          "text": [
            "price            49\n",
            "bedrooms         49\n",
            "bathrooms        49\n",
            "sqft_living      49\n",
            "sqft_lot         49\n",
            "floors           49\n",
            "waterfront       49\n",
            "view             49\n",
            "condition        49\n",
            "sqft_above       49\n",
            "sqft_basement    49\n",
            "yr_built         49\n",
            "yr_renovated     49\n",
            "city             49\n",
            "dtype: int64\n"
          ]
        }
      ]
    },
    {
      "cell_type": "markdown",
      "source": [
        "Como suspeitávamos, a investigação revelou o problema:\n",
        "\n",
        "Existem 49 casas no seu conjunto de dados com o preço registrado como 0.0.\n",
        "\n",
        "Isso é um erro clássico de entrada de dados, onde um valor ausente foi preenchido com zero. Treinar qualquer modelo com esses dados \"corrompidos\" leva aos resultados estranhos e ruins que você observou. Nenhum modelo consegue aprender a precificar imóveis se parte dos exemplos diz que eles não têm valor.\n",
        "\n",
        "Este é um exemplo perfeito do princípio mais importante em machine learning: \"Garbage In, Garbage Out\" (Lixo entra, Lixo sai). A qualidade dos seus dados é mais importante do que a complexidade do seu modelo.\n",
        "\n",
        "A Solução: Limpar os Dados e Retreinar o Modelo\n",
        "A solução agora é simples e direta: vamos remover essas 49 linhas problemáticas e treinar o RandomForest novamente, mas desta vez apenas com os dados válidos.\n",
        "\n"
      ],
      "metadata": {
        "id": "0IDMIVRm3RIP"
      }
    },
    {
      "cell_type": "markdown",
      "source": [
        "### Dataset limpo e re-treinado"
      ],
      "metadata": {
        "id": "chft6QGk4Alp"
      }
    },
    {
      "cell_type": "code",
      "source": [
        "import pandas as pd\n",
        "from sklearn.model_selection import cross_val_score, KFold\n",
        "from sklearn.compose import ColumnTransformer\n",
        "from sklearn.preprocessing import OneHotEncoder, StandardScaler\n",
        "from sklearn.ensemble import RandomForestRegressor\n",
        "from sklearn.pipeline import Pipeline\n",
        "import numpy as np\n",
        "\n",
        "# 1. Carregar os dados\n",
        "df = pd.read_csv('/content/drive/MyDrive/data_science/data.csv')\n",
        "\n",
        "# 2. LIMPEZA DOS DADOS: O passo crucial\n",
        "# Removemos todas as linhas onde o preço era igual a zero.\n",
        "original_rows = len(df)\n",
        "df_limpo = df[df['price'] > 0]\n",
        "cleaned_rows = len(df_limpo)\n",
        "\n",
        "print(f\"Limpeza de dados: {original_rows - cleaned_rows} linhas com preço zero foram removidas.\")\n",
        "print(\"-\" * 70)\n",
        "df_limpo.drop(columns=['country', 'date', 'street', 'statezip'], inplace=True)\n",
        "# 3. Preparação dos Dados (usando o dataframe limpo: 'df_limpo')\n",
        "X = df_limpo.drop('price', axis=1)\n",
        "y = df_limpo['price']\n",
        "\n",
        "# Identificar colunas numéricas e categóricas\n",
        "numeric_features = X.select_dtypes(include=np.number).columns.tolist()\n",
        "categorical_features = ['city']\n",
        "if 'city' in numeric_features:\n",
        "    numeric_features.remove('city')\n",
        "\n",
        "# 4. Criar o pipeline de pré-processamento\n",
        "numeric_transformer = StandardScaler()\n",
        "categorical_transformer = OneHotEncoder(handle_unknown='ignore')\n",
        "preprocessor = ColumnTransformer(\n",
        "    transformers=[\n",
        "        ('num', numeric_transformer, numeric_features),\n",
        "        ('cat', categorical_transformer, categorical_features)\n",
        "    ])\n",
        "\n",
        "# 5. Definir o modelo RandomForestRegressor\n",
        "# n_jobs=-1 usa todos os processadores para acelerar o treino\n",
        "# random_state=42 garante que o resultado seja sempre o mesmo ao rodar o código\n",
        "model = RandomForestRegressor(n_jobs=-1, random_state=42)\n",
        "\n",
        "# Criar o pipeline final que une pré-processamento e o modelo\n",
        "pipeline = Pipeline(steps=[('preprocessor', preprocessor),\n",
        "                           ('regressor', model)])\n",
        "\n",
        "# 6. Configurar e Executar a Validação Cruzada nos dados limpos\n",
        "cv = KFold(n_splits=5, shuffle=True, random_state=42)\n",
        "r2_scores = cross_val_score(pipeline, X, y, cv=cv, scoring='r2')\n",
        "mae_scores = -cross_val_score(pipeline, X, y, cv=cv, scoring='neg_mean_absolute_error')\n",
        "\n",
        "# 7. Apresentar os resultados finais\n",
        "print(\"Resultados do RandomForest APÓS A LIMPEZA com Validação Cruzada\")\n",
        "print(\"=\"*70)\n",
        "print(f\"Scores de R² para cada fold: {np.round(r2_scores, 4)}\")\n",
        "print(f\"Média do R²: {r2_scores.mean():.4f}\")\n",
        "print(f\"Desvio Padrão do R²: {r2_scores.std():.4f}\")\n",
        "print(\"-\" * 70)\n",
        "print(f\"Scores de MAE para cada fold: {[f'${score:,.2f}' for score in mae_scores]}\")\n",
        "print(f\"Média do MAE: ${mae_scores.mean():,.2f}\")\n",
        "print(f\"Desvio Padrão do MAE: ${mae_scores.std():,.2f}\")"
      ],
      "metadata": {
        "colab": {
          "base_uri": "https://localhost:8080/"
        },
        "id": "wku6-Ps93_D8",
        "outputId": "86af78e4-d8e3-432d-a52d-df2a61c65093"
      },
      "execution_count": null,
      "outputs": [
        {
          "output_type": "stream",
          "name": "stdout",
          "text": [
            "Limpeza de dados: 49 linhas com preço zero foram removidas.\n",
            "----------------------------------------------------------------------\n"
          ]
        },
        {
          "output_type": "stream",
          "name": "stderr",
          "text": [
            "/tmp/ipython-input-3834027918.py:20: SettingWithCopyWarning: \n",
            "A value is trying to be set on a copy of a slice from a DataFrame\n",
            "\n",
            "See the caveats in the documentation: https://pandas.pydata.org/pandas-docs/stable/user_guide/indexing.html#returning-a-view-versus-a-copy\n",
            "  df_limpo.drop(columns=['country', 'date', 'street', 'statezip'], inplace=True)\n"
          ]
        },
        {
          "output_type": "stream",
          "name": "stdout",
          "text": [
            "Resultados do RandomForest APÓS A LIMPEZA com Validação Cruzada\n",
            "======================================================================\n",
            "Scores de R² para cada fold: [0.5143 0.0501 0.2912 0.6409 0.3017]\n",
            "Média do R²: 0.3597\n",
            "Desvio Padrão do R²: 0.2034\n",
            "----------------------------------------------------------------------\n",
            "Scores de MAE para cada fold: ['$124,958.77', '$143,762.26', '$130,394.97', '$114,908.79', '$130,336.09']\n",
            "Média do MAE: $128,872.18\n",
            "Desvio Padrão do MAE: $9,343.10\n"
          ]
        }
      ]
    },
    {
      "cell_type": "markdown",
      "source": [
        "# Comparação entre os modelos:\n",
        "\n",
        "O random forest se mostrou muito mais eficaz em mostrar variações dos preços melhor do que o modelo de regressão linar, apesar de ter um R² um pouco maior, ou seja, conseguir responder melhor sobre os dados, ainda assim, essa métrica pode ser enganosa, pois o modelo é sensível a outliers.\n",
        "Próxima etapa, melhorar os hiperparâmetros do Random Forest e torná-lo um modelo ainda mais poderoso e eficiente."
      ],
      "metadata": {
        "id": "1Eay_V0k6bpu"
      }
    },
    {
      "cell_type": "markdown",
      "source": [
        "# Gradient Boosting com XGBoost\n"
      ],
      "metadata": {
        "id": "SpxE-KH4F04l"
      }
    },
    {
      "cell_type": "markdown",
      "source": [
        "### Importação das bibliotecas:"
      ],
      "metadata": {
        "id": "U2V88uURGIRI"
      }
    },
    {
      "cell_type": "code",
      "source": [
        "!pip install xgboost\n",
        "from sklearn.model_selection import cross_val_score, KFold\n",
        "from sklearn.compose import ColumnTransformer\n",
        "from sklearn.preprocessing import OneHotEncoder, StandardScaler\n",
        "from sklearn.pipeline import Pipeline\n",
        "import xgboost as xgb\n",
        "import numpy as np\n",
        "import pandas as pd\n",
        "\n"
      ],
      "metadata": {
        "colab": {
          "base_uri": "https://localhost:8080/"
        },
        "id": "GPVs7AlmGMwj",
        "outputId": "8d9349ca-b0a4-4f5f-b57c-441d16e8bc28"
      },
      "execution_count": null,
      "outputs": [
        {
          "output_type": "stream",
          "name": "stdout",
          "text": [
            "Requirement already satisfied: xgboost in /usr/local/lib/python3.12/dist-packages (3.0.4)\n",
            "Requirement already satisfied: numpy in /usr/local/lib/python3.12/dist-packages (from xgboost) (2.0.2)\n",
            "Requirement already satisfied: nvidia-nccl-cu12 in /usr/local/lib/python3.12/dist-packages (from xgboost) (2.27.3)\n",
            "Requirement already satisfied: scipy in /usr/local/lib/python3.12/dist-packages (from xgboost) (1.16.1)\n"
          ]
        }
      ]
    },
    {
      "cell_type": "markdown",
      "source": [
        "### Preparação dos dados e identificação das colunas"
      ],
      "metadata": {
        "id": "tKJUQimFGhBD"
      }
    },
    {
      "cell_type": "code",
      "source": [
        "dataset = pd.read_csv('/content/drive/MyDrive/data_science/data.csv')\n",
        "dataset.drop(columns=['country', 'date', 'street', 'statezip'], inplace=True)\n",
        "X = dataset.drop(columns=['price'])\n",
        "y = dataset['price']\n",
        "numeric_features = X.select_dtypes(include=np.number).columns.tolist()\n",
        "categorical_features = ['city']\n",
        "if 'city' in numeric_features:\n",
        "  numeric_features.remove('city')"
      ],
      "metadata": {
        "id": "ORn8O2w1Guwh"
      },
      "execution_count": null,
      "outputs": []
    },
    {
      "cell_type": "code",
      "source": [
        "numeric_transformer = StandardScaler()\n",
        "categorical_transformer = OneHotEncoder(handle_unknown='ignore')\n",
        "preprocessor = ColumnTransformer(\n",
        "    transformers=[\n",
        "        ('num', numeric_transformer, numeric_features),\n",
        "        ('cat', categorical_transformer, categorical_features)\n",
        "    ]\n",
        ")\n",
        "model = xgb.XGBRegressor(n_jobs=1, random_state=42)\n",
        "pipeline = Pipeline(steps=[('preprocessor', preprocessor),\n",
        "                        ('regressor', model)])"
      ],
      "metadata": {
        "id": "TXevL3a5G7gW"
      },
      "execution_count": null,
      "outputs": []
    },
    {
      "cell_type": "markdown",
      "source": [
        "### Criar o pepiline de pré-processamento e o modelo"
      ],
      "metadata": {
        "id": "sxCnR0XuG6HW"
      }
    },
    {
      "cell_type": "code",
      "source": [
        "cv = KFold(n_splits=5, shuffle=True, random_state=42)\n",
        "r2_scores = cross_val_score(pipeline, X, y, cv=cv, scoring='r2')\n",
        "mae_scores = -cross_val_score(pipeline, X, y, cv=cv, scoring='neg_mean_absolute_error')"
      ],
      "metadata": {
        "id": "q_-zM-UlHjAs"
      },
      "execution_count": null,
      "outputs": []
    },
    {
      "cell_type": "markdown",
      "source": [
        "### Apresentação dos resultados"
      ],
      "metadata": {
        "id": "sbEICkL0Jd3s"
      }
    },
    {
      "cell_type": "code",
      "source": [
        "print(\"Resultados do XGBoost com Validação Cruzada (Dados Limpos)\")\n",
        "print(\"=\"*70)\n",
        "print(f\"Média do R²: {r2_scores.mean():.4f}\")\n",
        "print(f\"Média do MAE: ${mae_scores.mean():,.2f}\")"
      ],
      "metadata": {
        "colab": {
          "base_uri": "https://localhost:8080/"
        },
        "id": "HiD70xP-JgtW",
        "outputId": "f6ca12d3-6d4e-4325-cc72-b588a96a8568"
      },
      "execution_count": null,
      "outputs": [
        {
          "output_type": "stream",
          "name": "stdout",
          "text": [
            "Resultados do XGBoost com Validação Cruzada (Dados Limpos)\n",
            "======================================================================\n",
            "Média do R²: -0.4732\n",
            "Média do MAE: $147,795.74\n"
          ]
        }
      ]
    },
    {
      "cell_type": "markdown",
      "source": [
        "### Identificação da causa dos resultados"
      ],
      "metadata": {
        "id": "7KKJg-F0K0i9"
      }
    },
    {
      "cell_type": "code",
      "source": [
        "import pandas as pd\n",
        "from sklearn.model_selection import cross_val_score, KFold\n",
        "from sklearn.compose import ColumnTransformer\n",
        "from sklearn.preprocessing import OneHotEncoder, StandardScaler\n",
        "from xgboost import XGBRegressor\n",
        "from sklearn.pipeline import Pipeline\n",
        "import numpy as np\n",
        "import matplotlib.pyplot as plt\n",
        "import seaborn as sns\n",
        "\n",
        "# --- INÍCIO DA ANÁLISE ---\n",
        "\n",
        "# 1. Carregar e limpar os dados\n",
        "df = pd.read_csv('/content/drive/MyDrive/data_science/data.csv')\n",
        "df_limpo = df[df['price'] > 0]\n",
        "y_original = df_limpo['price']\n",
        "\n",
        "# 2. Visualizar a distribuição do preço (ANTES E DEPOIS)\n",
        "print(\"Gerando gráfico 'price_distribution.png' para visualização...\")\n",
        "plt.figure(figsize=(12, 5))\n",
        "\n",
        "# Gráfico 1: Distribuição Original\n",
        "plt.subplot(1, 2, 1)\n",
        "sns.histplot(y_original, kde=True, bins=50)\n",
        "plt.title('Distribuição Original do Preço (Assimétrica)')\n",
        "plt.xlabel('Preço (em milhões)')\n",
        "plt.ylabel('Frequência')\n",
        "\n",
        "# Gráfico 2: Distribuição Log-Transformada\n",
        "plt.subplot(1, 2, 2)\n",
        "sns.histplot(np.log1p(y_original), kde=True, bins=50, color='green')\n",
        "plt.title('Distribuição do Preço Após Log (Mais Normal)')\n",
        "plt.xlabel('Log(Preço + 1)')\n",
        "plt.ylabel('Frequência')\n",
        "\n",
        "plt.tight_layout()\n",
        "plt.savefig('price_distribution.png')\n",
        "print(\"Gráfico salvo!\")\n",
        "print(\"-\" * 70)\n",
        "\n",
        "# --- INÍCIO DO RETREINAMENTO ---\n",
        "\n",
        "# 3. Preparação dos Dados com Transformação Logarítmica na variável alvo\n",
        "X = df_limpo.drop('price', axis=1)\n",
        "y_log = np.log1p(df_limpo['price']) # APLICA A TRANSFORMAÇÃO LOG\n",
        "\n",
        "# 4. Pipeline de Pré-processamento (idêntico)\n",
        "numeric_features = X.select_dtypes(include=np.number).columns.tolist()\n",
        "categorical_features = ['city']\n",
        "if 'city' in numeric_features:\n",
        "    numeric_features.remove('city')\n",
        "\n",
        "numeric_transformer = StandardScaler()\n",
        "categorical_transformer = OneHotEncoder(handle_unknown='ignore')\n",
        "preprocessor = ColumnTransformer(\n",
        "    transformers=[\n",
        "        ('num', numeric_transformer, numeric_features),\n",
        "        ('cat', categorical_transformer, categorical_features)\n",
        "    ])\n",
        "\n",
        "# 5. Modelo XGBoost (idêntico)\n",
        "model = XGBRegressor(n_jobs=-1, random_state=42)\n",
        "pipeline = Pipeline(steps=[('preprocessor', preprocessor),\n",
        "                           ('regressor', model)])\n",
        "\n",
        "# 6. Validação Cruzada (agora com y_log)\n",
        "cv = KFold(n_splits=5, shuffle=True, random_state=42)\n",
        "r2_scores = cross_val_score(pipeline, X, y_log, cv=cv, scoring='r2')\n",
        "mae_scores_log = -cross_val_score(pipeline, X, y_log, cv=cv, scoring='neg_mean_absolute_error')\n",
        "\n",
        "# 7. Apresentar os resultados\n",
        "print(\"Resultados do XGBoost APÓS TRANSFORMAÇÃO LOG no Preço\")\n",
        "print(\"=\"*70)\n",
        "print(f\"Média do R²: {r2_scores.mean():.4f}\")\n",
        "print(f\"Média do MAE (em escala logarítmica): {mae_scores_log.mean():.4f}\")\n",
        "print(\"\\n(Nota: O MAE está em 'log-dólares'. O sucesso do modelo é medido principalmente pelo R²)\")\n"
      ],
      "metadata": {
        "colab": {
          "base_uri": "https://localhost:8080/",
          "height": 663
        },
        "id": "0Kl2HAoGKuaZ",
        "outputId": "eab8264f-2d4f-470e-e576-936c1c84c876"
      },
      "execution_count": null,
      "outputs": [
        {
          "output_type": "stream",
          "name": "stdout",
          "text": [
            "Gerando gráfico 'price_distribution.png' para visualização...\n",
            "Gráfico salvo!\n",
            "----------------------------------------------------------------------\n",
            "Resultados do XGBoost APÓS TRANSFORMAÇÃO LOG no Preço\n",
            "======================================================================\n",
            "Média do R²: 0.6791\n",
            "Média do MAE (em escala logarítmica): 0.2008\n",
            "\n",
            "(Nota: O MAE está em 'log-dólares'. O sucesso do modelo é medido principalmente pelo R²)\n"
          ]
        },
        {
          "output_type": "display_data",
          "data": {
            "text/plain": [
              "<Figure size 1200x500 with 2 Axes>"
            ],
            "image/png": "[encoded data removed]"
          },
          "metadata": {}
        }
      ]
    },
    {
      "cell_type": "markdown",
      "source": [
        "# Optuna"
      ],
      "metadata": {
        "id": "7lJHgnkWT61r"
      }
    },
    {
      "cell_type": "markdown",
      "source": [
        "### Instalação"
      ],
      "metadata": {
        "id": "nC7k-TYqUBDm"
      }
    },
    {
      "cell_type": "code",
      "source": [
        "!pip install optuna"
      ],
      "metadata": {
        "colab": {
          "base_uri": "https://localhost:8080/"
        },
        "id": "z7_H4RlBT_HF",
        "outputId": "d879b29e-183b-4ee7-9c82-034193b74214"
      },
      "execution_count": null,
      "outputs": [
        {
          "output_type": "stream",
          "name": "stdout",
          "text": [
            "Collecting optuna\n",
            "  Downloading optuna-4.5.0-py3-none-any.whl.metadata (17 kB)\n",
            "Collecting alembic>=1.5.0 (from optuna)\n",
            "  Downloading alembic-1.16.5-py3-none-any.whl.metadata (7.3 kB)\n",
            "Collecting colorlog (from optuna)\n",
            "  Downloading colorlog-6.9.0-py3-none-any.whl.metadata (10 kB)\n",
            "Requirement already satisfied: numpy in /usr/local/lib/python3.12/dist-packages (from optuna) (2.0.2)\n",
            "Requirement already satisfied: packaging>=20.0 in /usr/local/lib/python3.12/dist-packages (from optuna) (25.0)\n",
            "Requirement already satisfied: sqlalchemy>=1.4.2 in /usr/local/lib/python3.12/dist-packages (from optuna) (2.0.43)\n",
            "Requirement already satisfied: tqdm in /usr/local/lib/python3.12/dist-packages (from optuna) (4.67.1)\n",
            "Requirement already satisfied: PyYAML in /usr/local/lib/python3.12/dist-packages (from optuna) (6.0.2)\n",
            "Requirement already satisfied: Mako in /usr/lib/python3/dist-packages (from alembic>=1.5.0->optuna) (1.1.3)\n",
            "Requirement already satisfied: typing-extensions>=4.12 in /usr/local/lib/python3.12/dist-packages (from alembic>=1.5.0->optuna) (4.15.0)\n",
            "Requirement already satisfied: greenlet>=1 in /usr/local/lib/python3.12/dist-packages (from sqlalchemy>=1.4.2->optuna) (3.2.4)\n",
            "Downloading optuna-4.5.0-py3-none-any.whl (400 kB)\n",
            "\u001b[2K   \u001b[90m━━━━━━━━━━━━━━━━━━━━━━━━━━━━━━━━━━━━━━━━\u001b[0m \u001b[32m400.9/400.9 kB\u001b[0m \u001b[31m36.4 MB/s\u001b[0m eta \u001b[36m0:00:00\u001b[0m\n",
            "\u001b[?25hDownloading alembic-1.16.5-py3-none-any.whl (247 kB)\n",
            "\u001b[2K   \u001b[90m━━━━━━━━━━━━━━━━━━━━━━━━━━━━━━━━━━━━━━━━\u001b[0m \u001b[32m247.4/247.4 kB\u001b[0m \u001b[31m26.0 MB/s\u001b[0m eta \u001b[36m0:00:00\u001b[0m\n",
            "\u001b[?25hDownloading colorlog-6.9.0-py3-none-any.whl (11 kB)\n",
            "Installing collected packages: colorlog, alembic, optuna\n",
            "Successfully installed alembic-1.16.5 colorlog-6.9.0 optuna-4.5.0\n"
          ]
        }
      ]
    },
    {
      "cell_type": "markdown",
      "source": [
        "### Importações dos dados e das bibliotecas"
      ],
      "metadata": {
        "id": "r4ZXuFHoULmO"
      }
    },
    {
      "cell_type": "code",
      "source": [
        "import pandas as pd\n",
        "import numpy as np\n",
        "import seaborn as sns\n",
        "import matplotlib.pyplot as plt\n",
        "from sklearn.model_selection import train_test_split\n",
        "from sklearn.preprocessing import StandardScaler, OneHotEncoder\n",
        "from sklearn.compose import ColumnTransformer\n",
        "from sklearn.pipeline import Pipeline\n",
        "from sklearn.metrics import mean_squared_error\n",
        "import xgboost as xgb\n",
        "import optuna\n"
      ],
      "metadata": {
        "id": "ST5WQqGuUCkP"
      },
      "execution_count": null,
      "outputs": []
    },
    {
      "cell_type": "markdown",
      "source": [
        "### 1. Definir a função objetivo:"
      ],
      "metadata": {
        "id": "7KXqhtzrVmm0"
      }
    },
    {
      "cell_type": "code",
      "source": [
        "def objective(trial):\n",
        "  # Definir os dados em conjunto de treino e validação.\n",
        "  X_train, X_val, y_train_log, y_val_log = train_test_split(X, y_log, test_size=0.25, random_state=42)\n",
        "  # Definir o espaço de busca de hiperparâmetros.\n",
        "  param = {\n",
        "        'objective': 'reg:squarederror', # Objetivo para regressão\n",
        "        'eval_metric': 'rmse',\n",
        "        'n_estimators': trial.suggest_int('n_estimators', 200, 2000),\n",
        "        'learning_rate': trial.suggest_float('learning_rate', 0.01, 0.3, log=True),\n",
        "        'max_depth': trial.suggest_int('max_depth', 3, 12),\n",
        "        'subsample': trial.suggest_float('subsample', 0.6, 1.0),\n",
        "        'colsample_bytree': trial.suggest_float('colsample_bytree', 0.6, 1.0),\n",
        "        'gamma': trial.suggest_float('gamma', 1e-8, 1.0, log=True),\n",
        "        'min_child_weight': trial.suggest_int('min_child_weight', 1, 10),\n",
        "        'lambda': trial.suggest_float('lambda', 1e-8, 1.0, log=True), # L2 Regularization\n",
        "        'alpha': trial.suggest_float('alpha', 1e-8, 1.0, log=True),   # L1 Regularization\n",
        "        'random_state': 42\n",
        "  }\n",
        "  # Criar o modelo XGBoost com os parâmetros sugeridos:\n",
        "  model = xgb.XGBRegressor(**param)\n",
        "  # Criar um pepiline final que inclui o pré-processamento e o modelo.\n",
        "  pipeline_final = Pipeline(steps=[('preprocessor', preprocessor),\n",
        "                           ('regressor', model)])\n",
        "  # Treinar o modelo:\n",
        "  pipeline_final.fit(X_train, y_train_log)\n",
        "\n",
        "  # Fazer previsões no conjunto de validação:\n",
        "\n",
        "  preds_log = pipeline_final.predict(X_val)\n",
        "\n",
        "  # Inversa da transformação logarítmica:\n",
        "\n",
        "  preds_original_scale = np.expm1(preds_log)\n",
        "  y_val_original_scale = np.expm1(y_val_log)\n",
        "\n",
        "  # Calcular o RMSE que o Optuna deve minimizar:\n",
        "  rmse = np.sqrt(mean_squared_error(y_val_original_scale, preds_original_scale))\n",
        "  return rmse\n",
        "\n"
      ],
      "metadata": {
        "id": "LaI1lXRhVtc0"
      },
      "execution_count": null,
      "outputs": []
    },
    {
      "cell_type": "markdown",
      "source": [
        "### 2. Criar e executar o estudo:"
      ],
      "metadata": {
        "id": "0DQd8TNeYGXT"
      }
    },
    {
      "cell_type": "code",
      "source": [
        "#Queremos minimizar o erro (RMSE), então a direção é minimize.\n",
        "study = optuna.create_study(direction='minimize')\n",
        "#Executa 50 tentativas para melhorar os parâmetros\n",
        "study.optimize(objective, n_trials=50)"
      ],
      "metadata": {
        "colab": {
          "base_uri": "https://localhost:8080/"
        },
        "id": "RM-k_EHHYLuY",
        "outputId": "1e7785e8-5669-4736-a377-d4f7f429548d"
      },
      "execution_count": null,
      "outputs": [
        {
          "output_type": "stream",
          "name": "stderr",
          "text": [
            "[I 2025-09-02 03:06:35,627] A new study created in memory with name: no-name-9e63dc32-9903-4f99-b726-c332a29b09d7\n",
            "[I 2025-09-02 03:06:36,945] Trial 0 finished with value: 229122.70440465934 and parameters: {'n_estimators': 1608, 'learning_rate': 0.14178790608201172, 'max_depth': 9, 'subsample': 0.8455094106510467, 'colsample_bytree': 0.6148211890755614, 'gamma': 3.635694382793988e-05, 'min_child_weight': 1, 'lambda': 0.0054005429492023915, 'alpha': 3.154724377018233e-05}. Best is trial 0 with value: 229122.70440465934.\n",
            "[I 2025-09-02 03:06:37,196] Trial 1 finished with value: 217032.43223175153 and parameters: {'n_estimators': 472, 'learning_rate': 0.078847117350326, 'max_depth': 10, 'subsample': 0.724538271769536, 'colsample_bytree': 0.7666624626143872, 'gamma': 0.1867881804120665, 'min_child_weight': 6, 'lambda': 0.06770619985270712, 'alpha': 2.7049639882424278e-06}. Best is trial 1 with value: 217032.43223175153.\n",
            "[I 2025-09-02 03:06:40,423] Trial 2 finished with value: 201174.66137327865 and parameters: {'n_estimators': 1326, 'learning_rate': 0.035156185122868895, 'max_depth': 10, 'subsample': 0.8188333986025061, 'colsample_bytree': 0.8059985392187787, 'gamma': 5.794374991667445e-05, 'min_child_weight': 4, 'lambda': 5.483765230586252e-07, 'alpha': 2.4591954938289024e-06}. Best is trial 2 with value: 201174.66137327865.\n",
            "[I 2025-09-02 03:06:44,457] Trial 3 finished with value: 211656.0826914924 and parameters: {'n_estimators': 342, 'learning_rate': 0.01381024183635471, 'max_depth': 11, 'subsample': 0.8611302205090311, 'colsample_bytree': 0.9392038673529011, 'gamma': 2.25153815921154e-05, 'min_child_weight': 2, 'lambda': 0.0011016146592591548, 'alpha': 1.0055386086874477e-06}. Best is trial 2 with value: 201174.66137327865.\n",
            "[I 2025-09-02 03:06:44,940] Trial 4 finished with value: 212880.16968283174 and parameters: {'n_estimators': 776, 'learning_rate': 0.11582164325562438, 'max_depth': 10, 'subsample': 0.7736858406254412, 'colsample_bytree': 0.9364899827399933, 'gamma': 0.041935785880572334, 'min_child_weight': 9, 'lambda': 0.0001404544373503837, 'alpha': 0.0053528515862425055}. Best is trial 2 with value: 201174.66137327865.\n",
            "[I 2025-09-02 03:06:45,591] Trial 5 finished with value: 231661.85352658125 and parameters: {'n_estimators': 1573, 'learning_rate': 0.24041239411585968, 'max_depth': 5, 'subsample': 0.9426718422949277, 'colsample_bytree': 0.9461256695808908, 'gamma': 0.00482684006604266, 'min_child_weight': 7, 'lambda': 1.5209224334408229e-05, 'alpha': 4.1001608261298335e-08}. Best is trial 2 with value: 201174.66137327865.\n",
            "[I 2025-09-02 03:06:46,940] Trial 6 finished with value: 214745.79425786735 and parameters: {'n_estimators': 531, 'learning_rate': 0.143298770753194, 'max_depth': 9, 'subsample': 0.6518725623226422, 'colsample_bytree': 0.918368043293809, 'gamma': 2.8103447740413076e-07, 'min_child_weight': 3, 'lambda': 0.05500899045674102, 'alpha': 0.00030896643703039775}. Best is trial 2 with value: 201174.66137327865.\n",
            "[I 2025-09-02 03:06:48,649] Trial 7 finished with value: 215176.25899191498 and parameters: {'n_estimators': 1003, 'learning_rate': 0.03074312713823982, 'max_depth': 9, 'subsample': 0.8359545313191821, 'colsample_bytree': 0.9062786842656816, 'gamma': 9.571873641941895e-08, 'min_child_weight': 8, 'lambda': 8.214004978631212e-07, 'alpha': 0.0026519107943281774}. Best is trial 2 with value: 201174.66137327865.\n",
            "[I 2025-09-02 03:06:49,002] Trial 8 finished with value: 202107.1964571499 and parameters: {'n_estimators': 1355, 'learning_rate': 0.15205844419873754, 'max_depth': 9, 'subsample': 0.6952970365596193, 'colsample_bytree': 0.8197111337798846, 'gamma': 0.37699586714859623, 'min_child_weight': 4, 'lambda': 0.00024301622381792796, 'alpha': 6.628535232767366e-05}. Best is trial 2 with value: 201174.66137327865.\n",
            "[I 2025-09-02 03:06:50,297] Trial 9 finished with value: 223492.4914233286 and parameters: {'n_estimators': 1356, 'learning_rate': 0.22545182135146308, 'max_depth': 6, 'subsample': 0.829278553068954, 'colsample_bytree': 0.9307711936645335, 'gamma': 2.9151875882927252e-05, 'min_child_weight': 2, 'lambda': 0.0002067418984969822, 'alpha': 0.005203188075166087}. Best is trial 2 with value: 201174.66137327865.\n",
            "[I 2025-09-02 03:06:51,990] Trial 10 finished with value: 212894.3698153267 and parameters: {'n_estimators': 1868, 'learning_rate': 0.034347501835829373, 'max_depth': 12, 'subsample': 0.9864401639219232, 'colsample_bytree': 0.7332351044896943, 'gamma': 0.0017564526659621543, 'min_child_weight': 5, 'lambda': 1.1717116422849591e-08, 'alpha': 0.3175718277772594}. Best is trial 2 with value: 201174.66137327865.\n",
            "[I 2025-09-02 03:06:52,306] Trial 11 finished with value: 201651.7011449935 and parameters: {'n_estimators': 1172, 'learning_rate': 0.046483135935239804, 'max_depth': 3, 'subsample': 0.6382425181515767, 'colsample_bytree': 0.8455749528764013, 'gamma': 0.9916019095789262, 'min_child_weight': 4, 'lambda': 2.9411084840091335e-06, 'alpha': 5.382689637079494e-06}. Best is trial 2 with value: 201174.66137327865.\n",
            "[I 2025-09-02 03:06:52,784] Trial 12 finished with value: 203290.57660319787 and parameters: {'n_estimators': 1073, 'learning_rate': 0.0424813670968431, 'max_depth': 3, 'subsample': 0.606290889658609, 'colsample_bytree': 0.8307952809358077, 'gamma': 1.7248985838107455e-06, 'min_child_weight': 4, 'lambda': 5.671042023480285e-07, 'alpha': 1.4974694516967926e-08}. Best is trial 2 with value: 201174.66137327865.\n",
            "[I 2025-09-02 03:06:53,360] Trial 13 finished with value: 192629.95344456885 and parameters: {'n_estimators': 1294, 'learning_rate': 0.01675169053938338, 'max_depth': 3, 'subsample': 0.7625309154127548, 'colsample_bytree': 0.6956174125803981, 'gamma': 0.0008873729511600773, 'min_child_weight': 5, 'lambda': 2.7395480071183703e-06, 'alpha': 1.2822159865273402e-06}. Best is trial 13 with value: 192629.95344456885.\n",
            "[I 2025-09-02 03:06:57,753] Trial 14 finished with value: 209019.9636125281 and parameters: {'n_estimators': 1906, 'learning_rate': 0.014096668620140737, 'max_depth': 7, 'subsample': 0.7610127192739781, 'colsample_bytree': 0.6714065826116387, 'gamma': 0.0010547630898737916, 'min_child_weight': 6, 'lambda': 3.1854012103292074e-08, 'alpha': 2.388321975219472e-07}. Best is trial 13 with value: 192629.95344456885.\n",
            "[I 2025-09-02 03:06:58,384] Trial 15 finished with value: 208767.47213224048 and parameters: {'n_estimators': 863, 'learning_rate': 0.019890884399707896, 'max_depth': 5, 'subsample': 0.8987259305451576, 'colsample_bytree': 0.7088349268917624, 'gamma': 1.0153602273804007e-08, 'min_child_weight': 10, 'lambda': 2.020632391127636e-07, 'alpha': 2.0006524135562619e-07}. Best is trial 13 with value: 192629.95344456885.\n",
            "[I 2025-09-02 03:07:00,179] Trial 16 finished with value: 201369.47501725986 and parameters: {'n_estimators': 1551, 'learning_rate': 0.022044862654288164, 'max_depth': 7, 'subsample': 0.7799690824937711, 'colsample_bytree': 0.6471424411742197, 'gamma': 0.00032380703085119146, 'min_child_weight': 5, 'lambda': 9.489129093962267e-06, 'alpha': 9.761441207796552e-06}. Best is trial 13 with value: 192629.95344456885.\n",
            "[I 2025-09-02 03:07:00,919] Trial 17 finished with value: 206880.08974816144 and parameters: {'n_estimators': 1263, 'learning_rate': 0.02262346528449279, 'max_depth': 4, 'subsample': 0.7089243221026107, 'colsample_bytree': 0.7653790029568032, 'gamma': 0.008536689881197882, 'min_child_weight': 7, 'lambda': 1.9286590411645324e-07, 'alpha': 0.00040969766270366516}. Best is trial 13 with value: 192629.95344456885.\n",
            "[I 2025-09-02 03:07:04,335] Trial 18 finished with value: 210045.49413825816 and parameters: {'n_estimators': 1717, 'learning_rate': 0.06882757784360972, 'max_depth': 12, 'subsample': 0.8957792354917856, 'colsample_bytree': 0.8640797039283188, 'gamma': 2.143151910290425e-06, 'min_child_weight': 3, 'lambda': 1.8584119453954005e-05, 'alpha': 3.9280071579700477e-07}. Best is trial 13 with value: 192629.95344456885.\n",
            "[I 2025-09-02 03:07:05,747] Trial 19 finished with value: 209426.73883412895 and parameters: {'n_estimators': 821, 'learning_rate': 0.010343885556556305, 'max_depth': 8, 'subsample': 0.7395228623871565, 'colsample_bytree': 0.9902144093154678, 'gamma': 0.00021023708931547247, 'min_child_weight': 7, 'lambda': 7.203811155303981e-08, 'alpha': 5.813573478548866e-08}. Best is trial 13 with value: 192629.95344456885.\n",
            "[I 2025-09-02 03:07:09,014] Trial 20 finished with value: 211264.58376250902 and parameters: {'n_estimators': 1416, 'learning_rate': 0.030485596378339582, 'max_depth': 6, 'subsample': 0.8023574947029795, 'colsample_bytree': 0.7778183909045817, 'gamma': 2.229739609814957e-06, 'min_child_weight': 3, 'lambda': 0.9272275686177113, 'alpha': 0.7770060517342432}. Best is trial 13 with value: 192629.95344456885.\n",
            "[I 2025-09-02 03:07:11,229] Trial 21 finished with value: 199180.34581611684 and parameters: {'n_estimators': 1517, 'learning_rate': 0.020614660014194628, 'max_depth': 7, 'subsample': 0.7951493937677475, 'colsample_bytree': 0.6089647307965578, 'gamma': 0.0002637297583779654, 'min_child_weight': 5, 'lambda': 7.237590471590493e-06, 'alpha': 1.4110374275202938e-05}. Best is trial 13 with value: 192629.95344456885.\n",
            "[I 2025-09-02 03:07:13,236] Trial 22 finished with value: 199500.76029650864 and parameters: {'n_estimators': 1451, 'learning_rate': 0.01620770564468406, 'max_depth': 8, 'subsample': 0.8101581797722903, 'colsample_bytree': 0.6197991698320674, 'gamma': 0.00019097919301580535, 'min_child_weight': 5, 'lambda': 1.986346377517972e-06, 'alpha': 1.2801822480951828e-05}. Best is trial 13 with value: 192629.95344456885.\n",
            "[I 2025-09-02 03:07:14,725] Trial 23 finished with value: 196594.4751518349 and parameters: {'n_estimators': 1743, 'learning_rate': 0.015171868555522754, 'max_depth': 6, 'subsample': 0.8755403274626987, 'colsample_bytree': 0.6005067442336348, 'gamma': 0.021670615542930143, 'min_child_weight': 5, 'lambda': 7.083257822229972e-06, 'alpha': 1.8300870167181252e-05}. Best is trial 13 with value: 192629.95344456885.\n",
            "[I 2025-09-02 03:07:15,759] Trial 24 finished with value: 206168.1866630436 and parameters: {'n_estimators': 1764, 'learning_rate': 0.011427923107384988, 'max_depth': 4, 'subsample': 0.875938434356844, 'colsample_bytree': 0.6772434611767361, 'gamma': 0.026070521501713524, 'min_child_weight': 6, 'lambda': 4.220873633571937e-05, 'alpha': 0.00024071111068147715}. Best is trial 13 with value: 192629.95344456885.\n",
            "[I 2025-09-02 03:07:17,417] Trial 25 finished with value: 196584.41285326527 and parameters: {'n_estimators': 1812, 'learning_rate': 0.01787756386508885, 'max_depth': 6, 'subsample': 0.9349149818863067, 'colsample_bytree': 0.6032181490743179, 'gamma': 0.0010316116262722276, 'min_child_weight': 5, 'lambda': 3.730143271521694e-06, 'alpha': 3.681900817167058e-05}. Best is trial 13 with value: 192629.95344456885.\n",
            "[I 2025-09-02 03:07:18,526] Trial 26 finished with value: 213604.50900385997 and parameters: {'n_estimators': 1937, 'learning_rate': 0.016926592756939637, 'max_depth': 5, 'subsample': 0.9703841776720887, 'colsample_bytree': 0.6512795161222175, 'gamma': 0.0347107638170943, 'min_child_weight': 8, 'lambda': 2.9525261302157086e-06, 'alpha': 8.043594563999258e-05}. Best is trial 13 with value: 192629.95344456885.\n",
            "[I 2025-09-02 03:07:20,846] Trial 27 finished with value: 214218.63819958098 and parameters: {'n_estimators': 1974, 'learning_rate': 0.027197755909905485, 'max_depth': 6, 'subsample': 0.9328482767481998, 'colsample_bytree': 0.7116808860641682, 'gamma': 0.0014402950202117334, 'min_child_weight': 6, 'lambda': 5.4184554550133795e-05, 'alpha': 0.001055208648803099}. Best is trial 13 with value: 192629.95344456885.\n",
            "[I 2025-09-02 03:07:23,430] Trial 28 finished with value: 190677.43910942163 and parameters: {'n_estimators': 1721, 'learning_rate': 0.01275567737130418, 'max_depth': 4, 'subsample': 0.9334858781901858, 'colsample_bytree': 0.6411072120991987, 'gamma': 0.007824034135710409, 'min_child_weight': 4, 'lambda': 0.0012266208120159476, 'alpha': 1.0460687541683651e-06}. Best is trial 28 with value: 190677.43910942163.\n",
            "[I 2025-09-02 03:07:24,469] Trial 29 finished with value: 203355.54948154697 and parameters: {'n_estimators': 1696, 'learning_rate': 0.011734709640349793, 'max_depth': 4, 'subsample': 0.9348399997646906, 'colsample_bytree': 0.6354291655280687, 'gamma': 1.020155087903702e-05, 'min_child_weight': 1, 'lambda': 0.0013671655179656273, 'alpha': 8.850889225199881e-07}. Best is trial 28 with value: 190677.43910942163.\n",
            "[I 2025-09-02 03:07:25,165] Trial 30 finished with value: 201146.07553459262 and parameters: {'n_estimators': 1620, 'learning_rate': 0.010059023348041084, 'max_depth': 3, 'subsample': 0.9589172848840818, 'colsample_bytree': 0.6942296768548291, 'gamma': 0.00524937543305279, 'min_child_weight': 2, 'lambda': 0.009359079545255397, 'alpha': 0.018015542468561865}. Best is trial 28 with value: 190677.43910942163.\n",
            "[I 2025-09-02 03:07:26,158] Trial 31 finished with value: 190290.88108962486 and parameters: {'n_estimators': 1789, 'learning_rate': 0.016144774295561038, 'max_depth': 4, 'subsample': 0.9092847375795229, 'colsample_bytree': 0.6011153935566211, 'gamma': 0.013776329553685593, 'min_child_weight': 4, 'lambda': 0.0011444731931836729, 'alpha': 2.1838490527335656e-05}. Best is trial 31 with value: 190290.88108962486.\n",
            "[I 2025-09-02 03:07:26,867] Trial 32 finished with value: 195105.04169114947 and parameters: {'n_estimators': 1845, 'learning_rate': 0.01823383873240755, 'max_depth': 4, 'subsample': 0.9914479790426447, 'colsample_bytree': 0.633304118741475, 'gamma': 0.10318484922141044, 'min_child_weight': 4, 'lambda': 0.0009560954845965438, 'alpha': 2.496660066495882e-06}. Best is trial 31 with value: 190290.88108962486.\n",
            "[I 2025-09-02 03:07:27,448] Trial 33 finished with value: 196110.8237000552 and parameters: {'n_estimators': 1619, 'learning_rate': 0.025210668270994954, 'max_depth': 4, 'subsample': 0.9921227613487453, 'colsample_bytree': 0.6629780437251521, 'gamma': 0.11198454385026405, 'min_child_weight': 3, 'lambda': 0.0012548769320715435, 'alpha': 2.2050492903323896e-06}. Best is trial 31 with value: 190290.88108962486.\n",
            "[I 2025-09-02 03:07:28,241] Trial 34 finished with value: 192053.68896895775 and parameters: {'n_estimators': 1978, 'learning_rate': 0.012561288520884395, 'max_depth': 3, 'subsample': 0.9037728661859872, 'colsample_bytree': 0.6303715677352681, 'gamma': 0.12142117952806061, 'min_child_weight': 4, 'lambda': 0.006822708168987815, 'alpha': 3.7816235378878304e-06}. Best is trial 31 with value: 190290.88108962486.\n",
            "[I 2025-09-02 03:07:29,140] Trial 35 finished with value: 190666.25100132436 and parameters: {'n_estimators': 1961, 'learning_rate': 0.012303495366300632, 'max_depth': 3, 'subsample': 0.903832775661862, 'colsample_bytree': 0.7318846736379657, 'gamma': 0.010087295682257308, 'min_child_weight': 4, 'lambda': 0.014738313308759176, 'alpha': 8.785066000472562e-07}. Best is trial 31 with value: 190290.88108962486.\n",
            "[I 2025-09-02 03:07:29,899] Trial 36 finished with value: 197999.3180773134 and parameters: {'n_estimators': 2000, 'learning_rate': 0.013631389715719986, 'max_depth': 3, 'subsample': 0.9128111806339276, 'colsample_bytree': 0.7367838538963041, 'gamma': 0.21435289759529874, 'min_child_weight': 2, 'lambda': 0.013742154327474028, 'alpha': 8.227289324894322e-08}. Best is trial 31 with value: 190290.88108962486.\n",
            "[I 2025-09-02 03:07:31,137] Trial 37 finished with value: 192524.4156593288 and parameters: {'n_estimators': 1676, 'learning_rate': 0.012209498258558955, 'max_depth': 5, 'subsample': 0.8572241339170791, 'colsample_bytree': 0.6279984019383726, 'gamma': 0.011898407201703041, 'min_child_weight': 4, 'lambda': 0.04520764387452933, 'alpha': 5.084690389755086e-07}. Best is trial 31 with value: 190290.88108962486.\n",
            "[I 2025-09-02 03:07:32,134] Trial 38 finished with value: 192616.9743324142 and parameters: {'n_estimators': 1832, 'learning_rate': 0.013619827183395187, 'max_depth': 4, 'subsample': 0.9113864834322614, 'colsample_bytree': 0.7371878459026601, 'gamma': 0.08711779031193599, 'min_child_weight': 3, 'lambda': 0.21367130768146791, 'alpha': 4.978840445097996e-06}. Best is trial 31 with value: 190290.88108962486.\n",
            "[I 2025-09-02 03:07:32,310] Trial 39 finished with value: 201637.31078893412 and parameters: {'n_estimators': 571, 'learning_rate': 0.08564989590833547, 'max_depth': 3, 'subsample': 0.9601854675966558, 'colsample_bytree': 0.6826750442942379, 'gamma': 0.6820710967455725, 'min_child_weight': 4, 'lambda': 0.004164768518413142, 'alpha': 1.5802377422223753e-07}. Best is trial 31 with value: 190290.88108962486.\n",
            "[I 2025-09-02 03:07:36,164] Trial 40 finished with value: 200191.90565643314 and parameters: {'n_estimators': 1991, 'learning_rate': 0.012154478739322376, 'max_depth': 5, 'subsample': 0.8500557782154622, 'colsample_bytree': 0.6496301159972583, 'gamma': 0.003336278049026654, 'min_child_weight': 1, 'lambda': 0.01840092169712297, 'alpha': 1.0352689884251342e-08}. Best is trial 31 with value: 190290.88108962486.\n",
            "[I 2025-09-02 03:07:37,407] Trial 41 finished with value: 192818.84994759888 and parameters: {'n_estimators': 1700, 'learning_rate': 0.012272899844654411, 'max_depth': 5, 'subsample': 0.8639531837370131, 'colsample_bytree': 0.6254202846409601, 'gamma': 0.01243115604716377, 'min_child_weight': 4, 'lambda': 0.046117373902329145, 'alpha': 6.507836913489762e-07}. Best is trial 31 with value: 190290.88108962486.\n",
            "[I 2025-09-02 03:07:38,477] Trial 42 finished with value: 193110.1159244532 and parameters: {'n_estimators': 1873, 'learning_rate': 0.010424533158573059, 'max_depth': 4, 'subsample': 0.8930766565076389, 'colsample_bytree': 0.6269850260113157, 'gamma': 0.0148468440495426, 'min_child_weight': 3, 'lambda': 0.003233034387976883, 'alpha': 6.230369239437743e-07}. Best is trial 31 with value: 190290.88108962486.\n",
            "[I 2025-09-02 03:07:39,170] Trial 43 finished with value: 192489.17945798975 and parameters: {'n_estimators': 1643, 'learning_rate': 0.0148745337680033, 'max_depth': 3, 'subsample': 0.9158939876370601, 'colsample_bytree': 0.6435743168876238, 'gamma': 0.05639781157147436, 'min_child_weight': 4, 'lambda': 0.0004175613851260078, 'alpha': 4.329740760635176e-06}. Best is trial 31 with value: 190290.88108962486.\n",
            "[I 2025-09-02 03:07:39,759] Trial 44 finished with value: 196083.02222995268 and parameters: {'n_estimators': 1807, 'learning_rate': 0.014380569847793798, 'max_depth': 3, 'subsample': 0.91574753703248, 'colsample_bytree': 0.6621942076704077, 'gamma': 0.3351427501054877, 'min_child_weight': 3, 'lambda': 0.00047098673535914885, 'alpha': 3.550152304629043e-05}. Best is trial 31 with value: 190290.88108962486.\n",
            "[I 2025-09-02 03:07:40,129] Trial 45 finished with value: 210412.19484433543 and parameters: {'n_estimators': 1472, 'learning_rate': 0.28985731756887684, 'max_depth': 3, 'subsample': 0.9689578959035375, 'colsample_bytree': 0.7605113379854787, 'gamma': 0.07011350904091807, 'min_child_weight': 2, 'lambda': 0.00043390439208725105, 'alpha': 4.490552225747525e-06}. Best is trial 31 with value: 190290.88108962486.\n",
            "[I 2025-09-02 03:07:41,027] Trial 46 finished with value: 192051.87773044614 and parameters: {'n_estimators': 1903, 'learning_rate': 0.024757607353982698, 'max_depth': 3, 'subsample': 0.8275443300921815, 'colsample_bytree': 0.7892026787542907, 'gamma': 0.05040882542968052, 'min_child_weight': 4, 'lambda': 0.002320584710901653, 'alpha': 1.6499477420202435e-06}. Best is trial 31 with value: 190290.88108962486.\n",
            "[I 2025-09-02 03:07:42,161] Trial 47 finished with value: 214256.47179787696 and parameters: {'n_estimators': 1884, 'learning_rate': 0.042267552250508836, 'max_depth': 4, 'subsample': 0.8797126684955222, 'colsample_bytree': 0.8083007152776461, 'gamma': 0.004985540739808824, 'min_child_weight': 6, 'lambda': 0.13942889775440032, 'alpha': 3.058869507348863e-08}. Best is trial 31 with value: 190290.88108962486.\n",
            "[I 2025-09-02 03:07:42,704] Trial 48 finished with value: 193146.8047030168 and parameters: {'n_estimators': 1937, 'learning_rate': 0.025844567698315432, 'max_depth': 3, 'subsample': 0.8366864593993049, 'colsample_bytree': 0.7845644330790379, 'gamma': 0.3377546287514263, 'min_child_weight': 4, 'lambda': 0.0022949410514588454, 'alpha': 2.0587521295287565e-06}. Best is trial 31 with value: 190290.88108962486.\n",
            "[I 2025-09-02 03:07:45,567] Trial 49 finished with value: 206205.66314514205 and parameters: {'n_estimators': 1758, 'learning_rate': 0.019804749920143912, 'max_depth': 11, 'subsample': 0.9576774034399532, 'colsample_bytree': 0.8685519287691807, 'gamma': 0.0026312688558597355, 'min_child_weight': 3, 'lambda': 0.01037577479900561, 'alpha': 1.1970604167072774e-07}. Best is trial 31 with value: 190290.88108962486.\n"
          ]
        }
      ]
    },
    {
      "cell_type": "markdown",
      "source": [
        "### 3. Exibir os resultados"
      ],
      "metadata": {
        "id": "SfLCgjAsYp27"
      }
    },
    {
      "cell_type": "code",
      "source": [
        "print(\"\\nOtimização concluída.\")\n",
        "print(f\"Melhor RMSE: {study.best_value:.4f}\")\n",
        "print(\"Melhores Parâmetros encontrados:\")\n",
        "for key, value in study.best_params.items():\n",
        "    print(f\"  {key}: {value}\")"
      ],
      "metadata": {
        "colab": {
          "base_uri": "https://localhost:8080/"
        },
        "id": "zijpoSDZYpZW",
        "outputId": "49827590-65ad-47cd-9884-4db3a4f98eb5"
      },
      "execution_count": null,
      "outputs": [
        {
          "output_type": "stream",
          "name": "stdout",
          "text": [
            "\n",
            "Otimização concluída.\n",
            "Melhor RMSE: 190290.8811\n",
            "Melhores Parâmetros encontrados:\n",
            "  n_estimators: 1789\n",
            "  learning_rate: 0.016144774295561038\n",
            "  max_depth: 4\n",
            "  subsample: 0.9092847375795229\n",
            "  colsample_bytree: 0.6011153935566211\n",
            "  gamma: 0.013776329553685593\n",
            "  min_child_weight: 4\n",
            "  lambda: 0.0011444731931836729\n",
            "  alpha: 2.1838490527335656e-05\n"
          ]
        }
      ]
    },
    {
      "cell_type": "markdown",
      "source": [
        "### 4. Treinar o modelo final com os melhores parâmetros"
      ],
      "metadata": {
        "id": "W0C_XJTWY0zt"
      }
    },
    {
      "cell_type": "code",
      "source": [
        "# Agora você pode usar study.best_params para treinar seu modelo final\n",
        "# usando TODOS os dados (X e y_log) para produção.\n",
        "final_params = study.best_params\n",
        "final_model_xgb = xgb.XGBRegressor(**final_params, random_state=42)\n",
        "pipeline_final_prod = Pipeline(steps=[('preprocessor', preprocessor),\n",
        "                                      ('regressor', final_model_xgb)])\n",
        "pipeline_final_prod.fit(X, y_log)\n",
        "print(\"\\nModelo final treinado com os melhores parâmetros!\")"
      ],
      "metadata": {
        "colab": {
          "base_uri": "https://localhost:8080/"
        },
        "id": "mYVesRpCYxpy",
        "outputId": "8870a353-ceea-48a4-aeb5-a669d5d84f0b"
      },
      "execution_count": null,
      "outputs": [
        {
          "output_type": "stream",
          "name": "stdout",
          "text": [
            "\n",
            "Modelo final treinado com os melhores parâmetros!\n"
          ]
        }
      ]
    },
    {
      "cell_type": "markdown",
      "source": [
        "### Salvando o modelo otmizado"
      ],
      "metadata": {
        "id": "0t7zAG5xbFU1"
      }
    },
    {
      "cell_type": "code",
      "source": [
        "import joblib\n",
        "\n",
        "# Salvar o pipeline completo\n",
        "joblib.dump(pipeline_final_prod, 'modelo_previsao_preco_v1.pkl')\n",
        "\n",
        "# Para carregar no futuro:\n",
        "# loaded_model = joblib.load('modelo_previsao_preco_v1.pkl')\n",
        "# predictions = loaded_model.predict(novos_dados)"
      ],
      "metadata": {
        "colab": {
          "base_uri": "https://localhost:8080/"
        },
        "id": "acAVVeVhbE2H",
        "outputId": "3346d507-8f31-4500-e9d8-bba70b589c50"
      },
      "execution_count": null,
      "outputs": [
        {
          "output_type": "execute_result",
          "data": {
            "text/plain": [
              "['modelo_previsao_preco_v1.pkl']"
            ]
          },
          "metadata": {},
          "execution_count": 11
        }
      ]
    },
    {
      "cell_type": "markdown",
      "source": [
        "## Teste de confiabilidade:"
      ],
      "metadata": {
        "id": "9q91_8ZTbX_J"
      }
    },
    {
      "cell_type": "code",
      "source": [
        "# ===================================================================\n",
        "# PASSO 1: IMPORTAR TODAS AS BIBLIOTECAS NECESSÁRIAS\n",
        "# ===================================================================\n",
        "import pandas as pd\n",
        "import numpy as np\n",
        "import random\n",
        "import xgboost as xgb\n",
        "import optuna\n",
        "from sklearn.model_selection import train_test_split\n",
        "from sklearn.preprocessing import StandardScaler, OneHotEncoder\n",
        "from sklearn.compose import ColumnTransformer\n",
        "from sklearn.pipeline import Pipeline\n",
        "from sklearn.metrics import mean_squared_error\n",
        "\n",
        "print(\"Bibliotecas importadas com sucesso!\")\n",
        "\n",
        "# ===================================================================\n",
        "# PASSO 2: FUNÇÃO PARA GERAR O DATASET SINTÉTICO\n",
        "# ===================================================================\n",
        "def criar_dataset_aleatorio(num_amostras=5000):\n",
        "    \"\"\"\n",
        "    Cria um DataFrame de pandas com dados sintéticos para um problema de previsão de preços de imóveis.\n",
        "    \"\"\"\n",
        "    print(f\"Gerando {num_amostras} amostras de dados aleatórios...\")\n",
        "\n",
        "    # Definir as features categóricas\n",
        "    cidades = ['São Paulo', 'Recife', 'Belo Horizonte', 'Porto Alegre', 'Salvador']\n",
        "    lista_cidades = [random.choice(cidades) for _ in range(num_amostras)]\n",
        "\n",
        "    # Mapear cidades a um multiplicador de preço para criar uma lógica\n",
        "    multiplicador_cidade = {\n",
        "        'São Paulo': 1.8,\n",
        "        'Recife': 1.1,\n",
        "        'Belo Horizonte': 1.3,\n",
        "        'Porto Alegre': 1.2,\n",
        "        'Salvador': 1.0\n",
        "    }\n",
        "    multiplicadores = [multiplicador_cidade[cidade] for cidade in lista_cidades]\n",
        "\n",
        "    # Definir as features numéricas\n",
        "    area_m2 = np.random.normal(loc=120, scale=40, size=num_amostras).astype(int)\n",
        "    quartos = np.random.randint(1, 6, size=num_amostras)\n",
        "    banheiros = np.random.randint(1, 5, size=num_amostras)\n",
        "    vagas_garagem = np.random.randint(0, 4, size=num_amostras)\n",
        "    idade_imovel = np.random.randint(0, 50, size=num_amostras)\n",
        "\n",
        "    area_m2 = np.abs(area_m2) # Garantir que valores sejam positivos\n",
        "\n",
        "    # Criar a variável alvo (price) com uma lógica e ruído\n",
        "    preco_base = (area_m2 * 2500) + (quartos * 15000) + (banheiros * 10000) - (idade_imovel * 500)\n",
        "    preco_com_logica = preco_base * multiplicadores\n",
        "    ruido = np.random.normal(loc=0, scale=50000, size=num_amostras)\n",
        "    preco_final = np.abs((preco_com_logica + ruido).astype(int))\n",
        "\n",
        "    # Montar o DataFrame\n",
        "    df_aleatorio = pd.DataFrame({\n",
        "        'area_m2': area_m2,\n",
        "        'quartos': quartos,\n",
        "        'banheiros': banheiros,\n",
        "        'vagas_garagem': vagas_garagem,\n",
        "        'idade_imovel': idade_imovel,\n",
        "        'city': lista_cidades,\n",
        "        'price': preco_final\n",
        "    })\n",
        "\n",
        "    print(\"Dataset criado com sucesso!\")\n",
        "    return df_aleatorio\n",
        "\n",
        "# ===================================================================\n",
        "# PASSO 3: GERAR E PREPARAR OS DADOS\n",
        "# ===================================================================\n",
        "# Gerar o dataset\n",
        "df = criar_dataset_aleatorio(num_amostras=5000)\n",
        "df_limpo = df[df['price'] > 0].copy()\n",
        "\n",
        "# Separar features (X) e alvo (y)\n",
        "X = df_limpo.drop('price', axis=1)\n",
        "y = df_limpo['price']\n",
        "\n",
        "# Aplicar a transformação logarítmica no alvo para normalizar a distribuição\n",
        "y_log = np.log1p(y)\n",
        "\n",
        "# ===================================================================\n",
        "# PASSO 4: DEFINIR O PIPELINE DE PRÉ-PROCESSAMENTO\n",
        "# ===================================================================\n",
        "# Identificar colunas numéricas e categóricas automaticamente\n",
        "numeric_features = X.select_dtypes(include=np.number).columns.tolist()\n",
        "categorical_features = X.select_dtypes(exclude=np.number).columns.tolist()\n",
        "\n",
        "# Criar os transformadores\n",
        "numeric_transformer = StandardScaler()\n",
        "categorical_transformer = OneHotEncoder(handle_unknown='ignore')\n",
        "\n",
        "# Criar o pré-processador com ColumnTransformer\n",
        "preprocessor = ColumnTransformer(\n",
        "    transformers=[\n",
        "        ('num', numeric_transformer, numeric_features),\n",
        "        ('cat', categorical_transformer, categorical_features)\n",
        "    ])\n",
        "\n",
        "print(\"\\nPipeline de pré-processamento definido.\")\n",
        "\n",
        "# ===================================================================\n",
        "# PASSO 5: DEFINIR A FUNÇÃO OBJETIVO DO OPTUNA\n",
        "# ===================================================================\n",
        "def objective(trial):\n",
        "    # Dividir os dados em treino e validação para este trial específico\n",
        "    X_train, X_val, y_train_log, y_val_log = train_test_split(X, y_log, test_size=0.25, random_state=42)\n",
        "\n",
        "    # Definir o espaço de busca dos hiperparâmetros para o XGBoost\n",
        "    param = {\n",
        "        'objective': 'reg:squarederror',\n",
        "        'eval_metric': 'rmse',\n",
        "        'n_estimators': trial.suggest_int('n_estimators', 200, 2000),\n",
        "        'learning_rate': trial.suggest_float('learning_rate', 0.01, 0.3, log=True),\n",
        "        'max_depth': trial.suggest_int('max_depth', 3, 12),\n",
        "        'subsample': trial.suggest_float('subsample', 0.6, 1.0),\n",
        "        'colsample_bytree': trial.suggest_float('colsample_bytree', 0.6, 1.0),\n",
        "        'gamma': trial.suggest_float('gamma', 1e-8, 1.0, log=True),\n",
        "        'min_child_weight': trial.suggest_int('min_child_weight', 1, 10),\n",
        "        'lambda': trial.suggest_float('lambda', 1e-8, 1.0, log=True), # L2 Regularization\n",
        "        'alpha': trial.suggest_float('alpha', 1e-8, 1.0, log=True),   # L1 Regularization\n",
        "        'random_state': 42\n",
        "    }\n",
        "\n",
        "    # Criar o modelo com os parâmetros sugeridos\n",
        "    model = xgb.XGBRegressor(**param)\n",
        "\n",
        "    # Criar o pipeline final que junta o pré-processador e o modelo\n",
        "    pipeline_final = Pipeline(steps=[('preprocessor', preprocessor),\n",
        "                                     ('regressor', model)])\n",
        "\n",
        "    # Treinar o pipeline completo\n",
        "    pipeline_final.fit(X_train, y_train_log)\n",
        "\n",
        "    # Fazer previsões no conjunto de validação\n",
        "    preds_log = pipeline_final.predict(X_val)\n",
        "\n",
        "    # Reverter a transformação logarítmica para calcular o erro na escala original\n",
        "    preds_original_scale = np.expm1(preds_log)\n",
        "    y_val_original_scale = np.expm1(y_val_log)\n",
        "\n",
        "    # Calcular o RMSE (Root Mean Squared Error)\n",
        "    rmse = np.sqrt(mean_squared_error(y_val_original_scale, preds_original_scale))\n",
        "\n",
        "    return rmse\n",
        "\n",
        "# ===================================================================\n",
        "# PASSO 6: CRIAR E EXECUTAR O ESTUDO DE OTIMIZAÇÃO\n",
        "# ===================================================================\n",
        "# Queremos minimizar o erro (RMSE)\n",
        "study = optuna.create_study(direction='minimize')\n",
        "\n",
        "print(\"\\nIniciando a otimização de hiperparâmetros com Optuna...\")\n",
        "# Executa a otimização. Aumente n_trials para uma busca mais completa (ex: 100).\n",
        "study.optimize(objective, n_trials=50)\n",
        "\n",
        "# ===================================================================\n",
        "# PASSO 7: EXIBIR OS RESULTADOS DA OTIMIZAÇÃO\n",
        "# ===================================================================\n",
        "print(\"\\nOtimização concluída.\")\n",
        "print(f\"Melhor RMSE encontrado: {study.best_value:.4f}\")\n",
        "print(\"Melhores Parâmetros encontrados:\")\n",
        "for key, value in study.best_params.items():\n",
        "    print(f\"  {key}: {value}\")\n",
        "\n",
        "# ===================================================================\n",
        "# PASSO 8: TREINAR O MODELO FINAL COM OS MELHORES PARÂMETROS\n",
        "# ===================================================================\n",
        "print(\"\\nTreinando o modelo final com os melhores parâmetros em todos os dados...\")\n",
        "\n",
        "final_params = study.best_params\n",
        "final_model_xgb = xgb.XGBRegressor(**final_params, random_state=42)\n",
        "\n",
        "# Criar o pipeline final de produção\n",
        "pipeline_de_producao = Pipeline(steps=[('preprocessor', preprocessor),\n",
        "                                       ('regressor', final_model_xgb)])\n",
        "\n",
        "# Treinar com TODOS os dados (X e y_log)\n",
        "pipeline_de_producao.fit(X, y_log)\n",
        "\n",
        "print(\"Modelo final treinado e pronto para ser usado!\")"
      ],
      "metadata": {
        "colab": {
          "base_uri": "https://localhost:8080/"
        },
        "id": "7op_B8s_bciA",
        "outputId": "62b6afb7-185b-4d29-93d8-e83e1b070704"
      },
      "execution_count": null,
      "outputs": [
        {
          "output_type": "stream",
          "name": "stderr",
          "text": [
            "[I 2025-09-02 03:17:59,405] A new study created in memory with name: no-name-ae384641-3648-46d7-b948-7d8d585e3525\n"
          ]
        },
        {
          "output_type": "stream",
          "name": "stdout",
          "text": [
            "Bibliotecas importadas com sucesso!\n",
            "Gerando 5000 amostras de dados aleatórios...\n",
            "Dataset criado com sucesso!\n",
            "\n",
            "Pipeline de pré-processamento definido.\n",
            "\n",
            "Iniciando a otimização de hiperparâmetros com Optuna...\n"
          ]
        },
        {
          "output_type": "stream",
          "name": "stderr",
          "text": [
            "[I 2025-09-02 03:17:59,786] Trial 0 finished with value: 54525.230930424856 and parameters: {'n_estimators': 1075, 'learning_rate': 0.031056796443157467, 'max_depth': 4, 'subsample': 0.7002327108752167, 'colsample_bytree': 0.724665746150416, 'gamma': 0.0011978906207391873, 'min_child_weight': 3, 'lambda': 3.7785518602228815e-08, 'alpha': 4.4024736084680795e-06}. Best is trial 0 with value: 54525.230930424856.\n",
            "[I 2025-09-02 03:18:00,833] Trial 1 finished with value: 62886.64990054544 and parameters: {'n_estimators': 1078, 'learning_rate': 0.10725302232675248, 'max_depth': 9, 'subsample': 0.782089781575256, 'colsample_bytree': 0.9827141761227486, 'gamma': 1.4669473146824995e-06, 'min_child_weight': 10, 'lambda': 0.00011265221616705658, 'alpha': 3.7587156981593676e-05}. Best is trial 0 with value: 54525.230930424856.\n",
            "[I 2025-09-02 03:18:00,932] Trial 2 finished with value: 53311.706913297174 and parameters: {'n_estimators': 211, 'learning_rate': 0.0384765308915068, 'max_depth': 4, 'subsample': 0.8875700544221454, 'colsample_bytree': 0.7368659067913401, 'gamma': 7.976183841155346e-05, 'min_child_weight': 2, 'lambda': 1.0465974040230587e-06, 'alpha': 0.007717926976950131}. Best is trial 2 with value: 53311.706913297174.\n",
            "[I 2025-09-02 03:18:02,057] Trial 3 finished with value: 58742.88565412362 and parameters: {'n_estimators': 857, 'learning_rate': 0.047739645238779424, 'max_depth': 11, 'subsample': 0.9492209395550094, 'colsample_bytree': 0.9698298482022878, 'gamma': 2.2248471528990433e-07, 'min_child_weight': 8, 'lambda': 3.221976135491969e-08, 'alpha': 0.0007413029872764169}. Best is trial 2 with value: 53311.706913297174.\n",
            "[I 2025-09-02 03:18:02,561] Trial 4 finished with value: 63597.71888414897 and parameters: {'n_estimators': 616, 'learning_rate': 0.08968570658867714, 'max_depth': 12, 'subsample': 0.78150616629162, 'colsample_bytree': 0.6045927025878635, 'gamma': 0.00026067231925457925, 'min_child_weight': 1, 'lambda': 0.00016389309574268372, 'alpha': 1.5305038675708997e-07}. Best is trial 2 with value: 53311.706913297174.\n",
            "[I 2025-09-02 03:18:02,710] Trial 5 finished with value: 55992.90645832128 and parameters: {'n_estimators': 828, 'learning_rate': 0.17735950831424438, 'max_depth': 11, 'subsample': 0.7364045944903592, 'colsample_bytree': 0.8555810149858696, 'gamma': 0.7722915527266394, 'min_child_weight': 7, 'lambda': 0.043330189402779225, 'alpha': 6.195053999349693e-06}. Best is trial 2 with value: 53311.706913297174.\n",
            "[I 2025-09-02 03:18:03,930] Trial 6 finished with value: 56354.34292306267 and parameters: {'n_estimators': 1114, 'learning_rate': 0.012264790834275445, 'max_depth': 10, 'subsample': 0.8915527256453882, 'colsample_bytree': 0.7219079749611859, 'gamma': 0.000505542266418304, 'min_child_weight': 10, 'lambda': 3.722104591006897e-05, 'alpha': 0.006913986291544424}. Best is trial 2 with value: 53311.706913297174.\n",
            "[I 2025-09-02 03:18:04,190] Trial 7 finished with value: 53586.86855668282 and parameters: {'n_estimators': 430, 'learning_rate': 0.011206338844132397, 'max_depth': 5, 'subsample': 0.7589983471886141, 'colsample_bytree': 0.9039248914171205, 'gamma': 0.0013526570374610123, 'min_child_weight': 1, 'lambda': 0.08425898552646766, 'alpha': 3.6358659134228013e-06}. Best is trial 2 with value: 53311.706913297174.\n",
            "[I 2025-09-02 03:18:04,551] Trial 8 finished with value: 54752.90127625964 and parameters: {'n_estimators': 1404, 'learning_rate': 0.013451178178318392, 'max_depth': 11, 'subsample': 0.9898252834679264, 'colsample_bytree': 0.718088680341403, 'gamma': 0.26330981182739144, 'min_child_weight': 7, 'lambda': 0.44898940144693017, 'alpha': 1.350472829865993e-07}. Best is trial 2 with value: 53311.706913297174.\n",
            "[I 2025-09-02 03:18:04,960] Trial 9 finished with value: 55995.2059231245 and parameters: {'n_estimators': 428, 'learning_rate': 0.03403112812648041, 'max_depth': 10, 'subsample': 0.7220998302886631, 'colsample_bytree': 0.8403974181401485, 'gamma': 0.006606802733014075, 'min_child_weight': 8, 'lambda': 0.019383332887009982, 'alpha': 7.675346073625849e-07}. Best is trial 2 with value: 53311.706913297174.\n",
            "[I 2025-09-02 03:18:06,143] Trial 10 finished with value: 67421.28066152961 and parameters: {'n_estimators': 1921, 'learning_rate': 0.2664213362157752, 'max_depth': 6, 'subsample': 0.6193070471225761, 'colsample_bytree': 0.6438422124612095, 'gamma': 9.97514312924182e-06, 'min_child_weight': 4, 'lambda': 9.653577830282714e-07, 'alpha': 0.19985187301571147}. Best is trial 2 with value: 53311.706913297174.\n",
            "[I 2025-09-02 03:18:06,261] Trial 11 finished with value: 55167.68715580869 and parameters: {'n_estimators': 268, 'learning_rate': 0.021054030610839502, 'max_depth': 3, 'subsample': 0.8832687498956435, 'colsample_bytree': 0.9049783204119644, 'gamma': 2.7912566839385674e-05, 'min_child_weight': 1, 'lambda': 3.52173792892369e-06, 'alpha': 0.008825150997476256}. Best is trial 2 with value: 53311.706913297174.\n",
            "[I 2025-09-02 03:18:06,447] Trial 12 finished with value: 54131.85006669023 and parameters: {'n_estimators': 249, 'learning_rate': 0.019069374026672234, 'max_depth': 6, 'subsample': 0.867252869985567, 'colsample_bytree': 0.7734765352170246, 'gamma': 0.017320371602480445, 'min_child_weight': 3, 'lambda': 0.003309452888352668, 'alpha': 0.0002506248521602286}. Best is trial 2 with value: 53311.706913297174.\n",
            "[I 2025-09-02 03:18:06,820] Trial 13 finished with value: 53553.5015452912 and parameters: {'n_estimators': 565, 'learning_rate': 0.010266186630428446, 'max_depth': 5, 'subsample': 0.8342970540933383, 'colsample_bytree': 0.909476002402072, 'gamma': 2.464088992037256e-08, 'min_child_weight': 2, 'lambda': 9.947698519771599e-07, 'alpha': 0.5386972951667529}. Best is trial 2 with value: 53311.706913297174.\n",
            "[I 2025-09-02 03:18:07,272] Trial 14 finished with value: 55550.179581913624 and parameters: {'n_estimators': 647, 'learning_rate': 0.0723684509179881, 'max_depth': 7, 'subsample': 0.8377589477588198, 'colsample_bytree': 0.7949613119448095, 'gamma': 1.3827410524469634e-08, 'min_child_weight': 4, 'lambda': 6.25784788242594e-07, 'alpha': 0.9785028922858391}. Best is trial 2 with value: 53311.706913297174.\n",
            "[I 2025-09-02 03:18:07,382] Trial 15 finished with value: 53568.834206729 and parameters: {'n_estimators': 229, 'learning_rate': 0.042155040601599164, 'max_depth': 3, 'subsample': 0.9371573498244653, 'colsample_bytree': 0.8881968686858139, 'gamma': 1.113422857261406e-08, 'min_child_weight': 3, 'lambda': 8.278346271786736e-06, 'alpha': 0.03315325988905342}. Best is trial 2 with value: 53311.706913297174.\n",
            "[I 2025-09-02 03:18:07,672] Trial 16 finished with value: 54032.62651210394 and parameters: {'n_estimators': 555, 'learning_rate': 0.023624310043186447, 'max_depth': 5, 'subsample': 0.8314463109791355, 'colsample_bytree': 0.6701343888480149, 'gamma': 5.495448298420704e-07, 'min_child_weight': 5, 'lambda': 1.7736659833001402e-07, 'alpha': 0.08698538191484254}. Best is trial 2 with value: 53311.706913297174.\n",
            "[I 2025-09-02 03:18:08,908] Trial 17 finished with value: 58922.753469708245 and parameters: {'n_estimators': 1532, 'learning_rate': 0.06609065529902636, 'max_depth': 8, 'subsample': 0.9228925171339011, 'colsample_bytree': 0.9428495078334839, 'gamma': 8.218282195445151e-06, 'min_child_weight': 2, 'lambda': 1.0796221699742645e-08, 'alpha': 0.005149868263044949}. Best is trial 2 with value: 53311.706913297174.\n",
            "[I 2025-09-02 03:18:09,396] Trial 18 finished with value: 55758.41175643251 and parameters: {'n_estimators': 837, 'learning_rate': 0.12726611401194426, 'max_depth': 4, 'subsample': 0.8240478791862412, 'colsample_bytree': 0.7653755176410206, 'gamma': 7.349621256264531e-08, 'min_child_weight': 5, 'lambda': 0.0017736776391731512, 'alpha': 0.703530556870784}. Best is trial 2 with value: 53311.706913297174.\n",
            "[I 2025-09-02 03:18:11,498] Trial 19 finished with value: 54241.070479661954 and parameters: {'n_estimators': 466, 'learning_rate': 0.016153338693008827, 'max_depth': 7, 'subsample': 0.6546491237796026, 'colsample_bytree': 0.8371955649786669, 'gamma': 6.643891142494848e-05, 'min_child_weight': 2, 'lambda': 1.1878468085860029e-05, 'alpha': 0.0008014581214937731}. Best is trial 2 with value: 53311.706913297174.\n",
            "[I 2025-09-02 03:18:12,256] Trial 20 finished with value: 54204.042178602984 and parameters: {'n_estimators': 699, 'learning_rate': 0.02740342793348731, 'max_depth': 5, 'subsample': 0.9643101769614645, 'colsample_bytree': 0.8153970847183069, 'gamma': 2.0675606558600713e-06, 'min_child_weight': 2, 'lambda': 2.35909095448538e-07, 'alpha': 0.04857633894721844}. Best is trial 2 with value: 53311.706913297174.\n",
            "[I 2025-09-02 03:18:12,358] Trial 21 finished with value: 53390.36730048679 and parameters: {'n_estimators': 229, 'learning_rate': 0.041381444348974235, 'max_depth': 3, 'subsample': 0.9224715199244279, 'colsample_bytree': 0.8994472465463939, 'gamma': 3.45261858156221e-08, 'min_child_weight': 3, 'lambda': 5.8036145714775684e-06, 'alpha': 0.027751811254582513}. Best is trial 2 with value: 53311.706913297174.\n",
            "[I 2025-09-02 03:18:12,525] Trial 22 finished with value: 53700.68325961458 and parameters: {'n_estimators': 358, 'learning_rate': 0.0539005483393127, 'max_depth': 4, 'subsample': 0.9078859060973598, 'colsample_bytree': 0.9287177526077637, 'gamma': 9.22401918805006e-08, 'min_child_weight': 4, 'lambda': 3.7623928309631415e-06, 'alpha': 0.015961775754508137}. Best is trial 2 with value: 53311.706913297174.\n",
            "[I 2025-09-02 03:18:12,665] Trial 23 finished with value: 53388.83274718707 and parameters: {'n_estimators': 347, 'learning_rate': 0.03875528646601429, 'max_depth': 3, 'subsample': 0.8573900569214943, 'colsample_bytree': 0.8742597700640946, 'gamma': 5.794543935255868e-08, 'min_child_weight': 2, 'lambda': 1.2079183629973868e-06, 'alpha': 0.26588776376556045}. Best is trial 2 with value: 53311.706913297174.\n",
            "[I 2025-09-02 03:18:12,763] Trial 24 finished with value: 53797.88118793572 and parameters: {'n_estimators': 213, 'learning_rate': 0.03783502554402915, 'max_depth': 3, 'subsample': 0.8692913147547304, 'colsample_bytree': 0.8777832662773862, 'gamma': 5.939347655170961e-07, 'min_child_weight': 3, 'lambda': 0.0006235523072068633, 'alpha': 1.165131002562922e-08}. Best is trial 2 with value: 53311.706913297174.\n",
            "[I 2025-09-02 03:18:12,935] Trial 25 finished with value: 53717.780877927005 and parameters: {'n_estimators': 408, 'learning_rate': 0.06509617151239225, 'max_depth': 3, 'subsample': 0.9974343817940953, 'colsample_bytree': 0.7577760475959023, 'gamma': 6.996093448166922e-08, 'min_child_weight': 1, 'lambda': 1.3120364404829545e-05, 'alpha': 0.0014183433575180537}. Best is trial 2 with value: 53311.706913297174.\n",
            "[I 2025-09-02 03:18:13,094] Trial 26 finished with value: 53638.95566639361 and parameters: {'n_estimators': 349, 'learning_rate': 0.04923273912881589, 'max_depth': 4, 'subsample': 0.9117119298697052, 'colsample_bytree': 0.8690845739747517, 'gamma': 5.770426005438892e-06, 'min_child_weight': 6, 'lambda': 2.0419268981705927e-07, 'alpha': 0.17393094591420835}. Best is trial 2 with value: 53311.706913297174.\n",
            "[I 2025-09-02 03:18:13,490] Trial 27 finished with value: 53488.218796575195 and parameters: {'n_estimators': 1994, 'learning_rate': 0.029180831864110888, 'max_depth': 3, 'subsample': 0.8526071293926302, 'colsample_bytree': 0.8108662436378945, 'gamma': 0.04376477444369301, 'min_child_weight': 4, 'lambda': 1.025445545131741e-06, 'alpha': 0.002658241254815183}. Best is trial 2 with value: 53311.706913297174.\n",
            "[I 2025-09-02 03:18:14,423] Trial 28 finished with value: 60433.87286073003 and parameters: {'n_estimators': 1268, 'learning_rate': 0.08607595405379613, 'max_depth': 6, 'subsample': 0.7996394615197355, 'colsample_bytree': 0.9565489919341519, 'gamma': 5.453290396082489e-05, 'min_child_weight': 2, 'lambda': 4.1290371130792276e-05, 'alpha': 0.00016545272480581526}. Best is trial 2 with value: 53311.706913297174.\n",
            "[I 2025-09-02 03:18:14,710] Trial 29 finished with value: 54216.970585454445 and parameters: {'n_estimators': 748, 'learning_rate': 0.033679886746628404, 'max_depth': 4, 'subsample': 0.9616449308371896, 'colsample_bytree': 0.9994367974113385, 'gamma': 2.7933262635224304e-07, 'min_child_weight': 3, 'lambda': 8.39848031620793e-08, 'alpha': 0.021186725799706343}. Best is trial 2 with value: 53311.706913297174.\n",
            "[I 2025-09-02 03:18:14,970] Trial 30 finished with value: 53390.4347520397 and parameters: {'n_estimators': 509, 'learning_rate': 0.02580915538122982, 'max_depth': 4, 'subsample': 0.8989187031621698, 'colsample_bytree': 0.7038911939075134, 'gamma': 2.034883520980049e-06, 'min_child_weight': 3, 'lambda': 2.9646285366663245e-06, 'alpha': 0.1963265298720434}. Best is trial 2 with value: 53311.706913297174.\n",
            "[I 2025-09-02 03:18:15,206] Trial 31 finished with value: 53442.436130506874 and parameters: {'n_estimators': 540, 'learning_rate': 0.025716000359123897, 'max_depth': 4, 'subsample': 0.898661798046524, 'colsample_bytree': 0.689652618304233, 'gamma': 2.3208965177690602e-06, 'min_child_weight': 3, 'lambda': 3.109045330007933e-06, 'alpha': 0.17784072384430002}. Best is trial 2 with value: 53311.706913297174.\n",
            "[I 2025-09-02 03:18:15,352] Trial 32 finished with value: 53174.952832145515 and parameters: {'n_estimators': 288, 'learning_rate': 0.040187681607759713, 'max_depth': 4, 'subsample': 0.9339621633701524, 'colsample_bytree': 0.7500702966236665, 'gamma': 3.714446792706497e-08, 'min_child_weight': 2, 'lambda': 4.464798244101034e-05, 'alpha': 0.055762357870837595}. Best is trial 32 with value: 53174.952832145515.\n",
            "[I 2025-09-02 03:18:15,486] Trial 33 finished with value: 53395.60590597305 and parameters: {'n_estimators': 321, 'learning_rate': 0.04250805125924966, 'max_depth': 3, 'subsample': 0.9391878532421034, 'colsample_bytree': 0.7446951379415341, 'gamma': 4.044968979351848e-08, 'min_child_weight': 2, 'lambda': 0.00032404143840419344, 'alpha': 0.05847160165384248}. Best is trial 32 with value: 53174.952832145515.\n",
            "[I 2025-09-02 03:18:15,629] Trial 34 finished with value: 53751.624680320674 and parameters: {'n_estimators': 204, 'learning_rate': 0.053683636811496564, 'max_depth': 5, 'subsample': 0.8647039750998511, 'colsample_bytree': 0.7406417167116024, 'gamma': 1.984985133691227e-07, 'min_child_weight': 1, 'lambda': 4.8354191746387734e-05, 'alpha': 0.017136478401815397}. Best is trial 32 with value: 53174.952832145515.\n",
            "[I 2025-09-02 03:18:15,757] Trial 35 finished with value: 53207.45368321585 and parameters: {'n_estimators': 335, 'learning_rate': 0.040618229694267566, 'max_depth': 3, 'subsample': 0.9674019979785474, 'colsample_bytree': 0.7889374220420257, 'gamma': 7.241182255172262e-07, 'min_child_weight': 1, 'lambda': 3.371961363835865e-08, 'alpha': 6.766381976478664e-05}. Best is trial 32 with value: 53174.952832145515.\n",
            "[I 2025-09-02 03:18:16,910] Trial 36 finished with value: 58436.2423949004 and parameters: {'n_estimators': 1718, 'learning_rate': 0.033863741368539806, 'max_depth': 6, 'subsample': 0.9603518758211151, 'colsample_bytree': 0.7867855838694578, 'gamma': 6.545977903708897e-07, 'min_child_weight': 1, 'lambda': 2.955576552406439e-08, 'alpha': 0.0006671817788132839}. Best is trial 32 with value: 53174.952832145515.\n",
            "[I 2025-09-02 03:18:17,528] Trial 37 finished with value: 60871.596794951554 and parameters: {'n_estimators': 1127, 'learning_rate': 0.12138959675536697, 'max_depth': 5, 'subsample': 0.8075282425427082, 'colsample_bytree': 0.8276887340912928, 'gamma': 0.00020377254198997218, 'min_child_weight': 1, 'lambda': 4.952560933149662e-08, 'alpha': 2.774932508689001e-05}. Best is trial 32 with value: 53174.952832145515.\n",
            "[I 2025-09-02 03:18:17,801] Trial 38 finished with value: 56468.48006674659 and parameters: {'n_estimators': 920, 'learning_rate': 0.08198023708232251, 'max_depth': 8, 'subsample': 0.9722822532836652, 'colsample_bytree': 0.6619293723925241, 'gamma': 0.001913755864241187, 'min_child_weight': 2, 'lambda': 1.0389016518846286e-08, 'alpha': 2.7161074982961714e-05}. Best is trial 32 with value: 53174.952832145515.\n",
            "[I 2025-09-02 03:18:18,180] Trial 39 finished with value: 55272.804252943584 and parameters: {'n_estimators': 982, 'learning_rate': 0.05850130390481463, 'max_depth': 4, 'subsample': 0.9843344526163768, 'colsample_bytree': 0.7399769060464089, 'gamma': 1.790688679517098e-07, 'min_child_weight': 10, 'lambda': 0.00011404182109017011, 'alpha': 0.0034101426340667844}. Best is trial 32 with value: 53174.952832145515.\n",
            "[I 2025-09-02 03:18:18,323] Trial 40 finished with value: 54037.19708240667 and parameters: {'n_estimators': 360, 'learning_rate': 0.01856292252174666, 'max_depth': 3, 'subsample': 0.7700172957826917, 'colsample_bytree': 0.6225425755966111, 'gamma': 0.0005433829447406723, 'min_child_weight': 1, 'lambda': 6.182515612474232e-07, 'alpha': 7.87173637190857e-05}. Best is trial 32 with value: 53174.952832145515.\n",
            "[I 2025-09-02 03:18:18,450] Trial 41 finished with value: 53454.047957151095 and parameters: {'n_estimators': 297, 'learning_rate': 0.04115046444310024, 'max_depth': 3, 'subsample': 0.9284067339634267, 'colsample_bytree': 0.786850693357924, 'gamma': 3.041021028524225e-08, 'min_child_weight': 2, 'lambda': 1.6679747187822178e-05, 'alpha': 4.66637740125955e-06}. Best is trial 32 with value: 53174.952832145515.\n",
            "[I 2025-09-02 03:18:18,645] Trial 42 finished with value: 53796.627373914474 and parameters: {'n_estimators': 442, 'learning_rate': 0.04801357914266875, 'max_depth': 4, 'subsample': 0.9463755271607577, 'colsample_bytree': 0.8605280435069047, 'gamma': 1.1385544772884508e-07, 'min_child_weight': 2, 'lambda': 3.705967077122166e-07, 'alpha': 0.10012850427089431}. Best is trial 32 with value: 53174.952832145515.\n",
            "[I 2025-09-02 03:18:18,777] Trial 43 finished with value: 53315.79932606423 and parameters: {'n_estimators': 308, 'learning_rate': 0.03236095149351157, 'max_depth': 3, 'subsample': 0.882390295068465, 'colsample_bytree': 0.7121270797538166, 'gamma': 2.829346783561316e-08, 'min_child_weight': 9, 'lambda': 1.834293877000811e-06, 'alpha': 0.3193838144669293}. Best is trial 32 with value: 53174.952832145515.\n",
            "[I 2025-09-02 03:18:19,084] Trial 44 finished with value: 53844.9462055097 and parameters: {'n_estimators': 754, 'learning_rate': 0.032702236821829385, 'max_depth': 4, 'subsample': 0.8803513816149781, 'colsample_bytree': 0.7157218816020501, 'gamma': 4.070848243033388e-07, 'min_child_weight': 9, 'lambda': 1.7996119857907792e-06, 'alpha': 0.3923221485245353}. Best is trial 32 with value: 53174.952832145515.\n",
            "[I 2025-09-02 03:18:19,297] Trial 45 finished with value: 53360.97282372478 and parameters: {'n_estimators': 602, 'learning_rate': 0.03010021249993236, 'max_depth': 3, 'subsample': 0.8479949674215466, 'colsample_bytree': 0.6859942721651296, 'gamma': 1.1230909482883152e-08, 'min_child_weight': 9, 'lambda': 1.2331932329203054e-07, 'alpha': 0.37081090917372106}. Best is trial 32 with value: 53174.952832145515.\n",
            "[I 2025-09-02 03:18:19,573] Trial 46 finished with value: 54222.02652730701 and parameters: {'n_estimators': 597, 'learning_rate': 0.022527282911901505, 'max_depth': 5, 'subsample': 0.8853466176377079, 'colsample_bytree': 0.6905117833883102, 'gamma': 1.3024486545690148e-08, 'min_child_weight': 9, 'lambda': 8.338197126859515e-08, 'alpha': 0.009896543040785749}. Best is trial 32 with value: 53174.952832145515.\n",
            "[I 2025-09-02 03:18:20,010] Trial 47 finished with value: 54693.298189423156 and parameters: {'n_estimators': 493, 'learning_rate': 0.029973492209736354, 'max_depth': 12, 'subsample': 0.8455206005993968, 'colsample_bytree': 0.6647068750838085, 'gamma': 9.414386081507031e-07, 'min_child_weight': 8, 'lambda': 2.937714225986328e-08, 'alpha': 0.9675778351738056}. Best is trial 32 with value: 53174.952832145515.\n",
            "[I 2025-09-02 03:18:20,248] Trial 48 finished with value: 53377.817969282485 and parameters: {'n_estimators': 630, 'learning_rate': 0.014492055787735877, 'max_depth': 3, 'subsample': 0.8103071284136395, 'colsample_bytree': 0.6379651343477382, 'gamma': 1.725538817797556e-08, 'min_child_weight': 9, 'lambda': 7.839546108206398e-08, 'alpha': 1.1858786974720436e-05}. Best is trial 32 with value: 53174.952832145515.\n",
            "[I 2025-09-02 03:18:20,674] Trial 49 finished with value: 56787.5321268568 and parameters: {'n_estimators': 410, 'learning_rate': 0.03634292908134458, 'max_depth': 9, 'subsample': 0.9787524343096141, 'colsample_bytree': 0.723742612009112, 'gamma': 2.3488707613669323e-05, 'min_child_weight': 8, 'lambda': 4.1811948732658613e-07, 'alpha': 0.0003570974584002208}. Best is trial 32 with value: 53174.952832145515.\n"
          ]
        },
        {
          "output_type": "stream",
          "name": "stdout",
          "text": [
            "\n",
            "Otimização concluída.\n",
            "Melhor RMSE encontrado: 53174.9528\n",
            "Melhores Parâmetros encontrados:\n",
            "  n_estimators: 288\n",
            "  learning_rate: 0.040187681607759713\n",
            "  max_depth: 4\n",
            "  subsample: 0.9339621633701524\n",
            "  colsample_bytree: 0.7500702966236665\n",
            "  gamma: 3.714446792706497e-08\n",
            "  min_child_weight: 2\n",
            "  lambda: 4.464798244101034e-05\n",
            "  alpha: 0.055762357870837595\n",
            "\n",
            "Treinando o modelo final com os melhores parâmetros em todos os dados...\n",
            "Modelo final treinado e pronto para ser usado!\n"
          ]
        }
      ]
    }
  ]
}